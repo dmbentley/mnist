{
 "cells": [
  {
   "cell_type": "markdown",
   "metadata": {},
   "source": [
    "# Creating Two Neural Networks to Study The MNIST data"
   ]
  },
  {
   "cell_type": "markdown",
   "metadata": {},
   "source": [
    "In this notebook, two neural networks are created that are able to look at images of handwritten digits and specify what digit it is. Specifically, the famous [MNIST dataset](http://yann.lecun.com/exdb/mnist/) will be used to train and test these two neural networks to do exactly this.\n",
    "\n",
    "The first neural network that will be created will be a *fully connected* neural network\n",
    "with five *hidden layers*. It will be found that with this architecture, the network is able to predict the digits with 96% accuracy.\n",
    "\n",
    "The second neural network that will be created will be a *convolutional* neural network (CNN). This model will have an alternating series of *convolutional*, *max pooling* and *dropout* layers. It will be seen that the CNN that is created in this notebook will have a 99% accuracy in predicting the digits in the test dataset. "
   ]
  },
  {
   "cell_type": "markdown",
   "metadata": {},
   "source": [
    "## Data extraction and visualisation"
   ]
  },
  {
   "cell_type": "markdown",
   "metadata": {},
   "source": [
    "First import the libraries needed in this notebook."
   ]
  },
  {
   "cell_type": "code",
   "execution_count": 1,
   "metadata": {},
   "outputs": [
    {
     "name": "stdout",
     "output_type": "stream",
     "text": [
      "\n",
      "WARNING: The TensorFlow contrib module will not be included in TensorFlow 2.0.\n",
      "For more information, please see:\n",
      "  * https://github.com/tensorflow/community/blob/master/rfcs/20180907-contrib-sunset.md\n",
      "  * https://github.com/tensorflow/addons\n",
      "If you depend on functionality not listed there, please file an issue.\n",
      "\n"
     ]
    },
    {
     "name": "stderr",
     "output_type": "stream",
     "text": [
      "Using TensorFlow backend.\n"
     ]
    }
   ],
   "source": [
    "import numpy as np\n",
    "import pandas as pd\n",
    "\n",
    "import tensorflow_datasets as tfds\n",
    "\n",
    "from sklearn.model_selection import train_test_split\n",
    "from sklearn.metrics import accuracy_score\n",
    "\n",
    "import matplotlib.pyplot as plt\n",
    "from matplotlib.ticker import MultipleLocator\n",
    "import seaborn as sns\n",
    "\n",
    "from keras.models import Sequential\n",
    "from keras.layers import Dense, Conv2D, Flatten, MaxPooling2D, Dropout\n",
    "from keras.utils.np_utils import to_categorical\n",
    "\n",
    "from random import randrange, sample"
   ]
  },
  {
   "cell_type": "markdown",
   "metadata": {},
   "source": [
    "The MNIST data can easily be obtained with the `tensorflow_datasets` library. In the cell below, if `download_data = True`, then tensorflow will download the MNIST data and store it in the directory `./data`. Otherwise, it will look for the data in the `./data` directory. \n",
    "\n",
    "The cell below loads the MNIST data into the variables `data` and `info`."
   ]
  },
  {
   "cell_type": "code",
   "execution_count": 2,
   "metadata": {},
   "outputs": [
    {
     "name": "stderr",
     "output_type": "stream",
     "text": [
      "WARNING: Logging before flag parsing goes to stderr.\n",
      "W0716 15:26:47.348944 140267820738304 deprecation.py:323] From /home/david/anaconda3/lib/python3.7/site-packages/tensorflow/python/ops/control_flow_ops.py:423: colocate_with (from tensorflow.python.framework.ops) is deprecated and will be removed in a future version.\n",
      "Instructions for updating:\n",
      "Colocations handled automatically by placer.\n"
     ]
    }
   ],
   "source": [
    "download_data = False\n",
    "\n",
    "if download_data:\n",
    "    \n",
    "    data, info = tfds.load('mnist', with_info=True, data_dir='./data')\n",
    "\n",
    "else:\n",
    "        \n",
    "    data, info = tfds.load('mnist', with_info=True, download=False, data_dir='./data')"
   ]
  },
  {
   "cell_type": "markdown",
   "metadata": {},
   "source": [
    "Extract the training data and test data."
   ]
  },
  {
   "cell_type": "code",
   "execution_count": 3,
   "metadata": {},
   "outputs": [],
   "source": [
    "train_data = tfds.as_numpy(data['train'])\n",
    "test_data = tfds.as_numpy(data['test'])"
   ]
  },
  {
   "cell_type": "markdown",
   "metadata": {},
   "source": [
    "The digit images and labels are somewhat hidden in train_data and test_data. In order to obtain the data to work with, the function `extract_data` is defined below. The function:\n",
    "* appends each digit image to an array X\n",
    "* appends each digit label to the array y\n",
    "* normalises each digit image by dividing by 255\n",
    "* one-hot encodes the digit labels y. This means that if the digit was 1 then it is turned into the array [0, 1, {8 more zeros}]"
   ]
  },
  {
   "cell_type": "code",
   "execution_count": 4,
   "metadata": {},
   "outputs": [],
   "source": [
    "def extract_data(generator):\n",
    "    '''This functgion returns two numpy arrays X and y. Each element of X contains a \n",
    "       normalised 28x28 numpy array of a digit. The corresponding element in y is the \n",
    "       one-hot encoded digit label.'''\n",
    "    \n",
    "    X = []\n",
    "    y = []\n",
    "\n",
    "    for digit in generator:\n",
    "    \n",
    "        X.append(digit['image'])\n",
    "        y.append(digit['label'])       \n",
    "\n",
    "    X = np.array(X)/255\n",
    "    y = np.array(y)\n",
    "\n",
    "    y = to_categorical(y)\n",
    "    \n",
    "    return X, y"
   ]
  },
  {
   "cell_type": "code",
   "execution_count": 5,
   "metadata": {},
   "outputs": [],
   "source": [
    "# NB: Since train_data and test_data are generators, this cell can only be run once.\n",
    "# If this cell needs to be rerun, then the cell defining the generators train_data and\n",
    "# test_data needs to be rerun again first. \n",
    "X, y = extract_data(train_data)\n",
    "X_test, y_test = extract_data(test_data)"
   ]
  },
  {
   "cell_type": "markdown",
   "metadata": {},
   "source": [
    "Of the digits in the training data, 15% of them will be declared as a validation set in order to probe the accuracy of the models that will be built."
   ]
  },
  {
   "cell_type": "code",
   "execution_count": 6,
   "metadata": {},
   "outputs": [],
   "source": [
    "X_train, X_validate, y_train, y_validate = train_test_split(X, y, test_size=0.15, random_state=0)"
   ]
  },
  {
   "cell_type": "markdown",
   "metadata": {},
   "source": [
    "In order to check that the data has been loaded correctly, a sample element of the training data can be displayed."
   ]
  },
  {
   "cell_type": "code",
   "execution_count": 35,
   "metadata": {},
   "outputs": [
    {
     "data": {
      "image/png": "[encoded data removed]",
      "text/plain": [
       "<Figure size 432x288 with 1 Axes>"
      ]
     },
     "metadata": {
      "needs_background": "light"
     },
     "output_type": "display_data"
    },
    {
     "name": "stdout",
     "output_type": "stream",
     "text": [
      "One-hot encoded: [0. 0. 0. 0. 0. 0. 0. 0. 0. 1.]\n"
     ]
    }
   ],
   "source": [
    "i = 10\n",
    "plt.gray()\n",
    "plt.imshow(X_train[i].reshape(28,28), interpolation='none')\n",
    "plt.show()\n",
    "\n",
    "print('One-hot encoded: {}'.format(y_train[i]))\n"
   ]
  },
  {
   "cell_type": "markdown",
   "metadata": {},
   "source": [
    "Now that the digit images and labels have been specified, it is possible to begin constructing the neural networks that can model this data."
   ]
  },
  {
   "cell_type": "markdown",
   "metadata": {},
   "source": [
    "## The First Model"
   ]
  },
  {
   "cell_type": "markdown",
   "metadata": {},
   "source": [
    "The first model that will be built will have:\n",
    "* An initial *flat* layer of 784 neurons corresponding to each of the pixels in the 28x28 image.\n",
    "* 5 hidden layers of 30 fully connected neurons each. These neurons will have a ReLU activation.\n",
    "* A final layer of 10 neurons corresponding to the 10 digits. The neurons in this final layer will have a softmax activation. \n",
    "\n",
    "The model can be easily constucted using Keras as shown below. "
   ]
  },
  {
   "cell_type": "code",
   "execution_count": 8,
   "metadata": {},
   "outputs": [],
   "source": [
    "model = Sequential()\n",
    "\n",
    "model.add(Flatten(input_shape=X_train[0].shape))\n",
    "model.add(Dense(30, activation='relu'))\n",
    "model.add(Dense(30, activation='relu'))\n",
    "model.add(Dense(30, activation='relu'))\n",
    "model.add(Dense(30, activation='relu'))\n",
    "model.add(Dense(30, activation='relu'))\n",
    "model.add(Dense(10, activation='softmax'))"
   ]
  },
  {
   "cell_type": "markdown",
   "metadata": {},
   "source": [
    "A summary of the model can be made."
   ]
  },
  {
   "cell_type": "code",
   "execution_count": 9,
   "metadata": {},
   "outputs": [
    {
     "name": "stdout",
     "output_type": "stream",
     "text": [
      "_________________________________________________________________\n",
      "Layer (type)                 Output Shape              Param #   \n",
      "=================================================================\n",
      "flatten_1 (Flatten)          (None, 784)               0         \n",
      "_________________________________________________________________\n",
      "dense_1 (Dense)              (None, 30)                23550     \n",
      "_________________________________________________________________\n",
      "dense_2 (Dense)              (None, 30)                930       \n",
      "_________________________________________________________________\n",
      "dense_3 (Dense)              (None, 30)                930       \n",
      "_________________________________________________________________\n",
      "dense_4 (Dense)              (None, 30)                930       \n",
      "_________________________________________________________________\n",
      "dense_5 (Dense)              (None, 30)                930       \n",
      "_________________________________________________________________\n",
      "dense_6 (Dense)              (None, 10)                310       \n",
      "=================================================================\n",
      "Total params: 27,580\n",
      "Trainable params: 27,580\n",
      "Non-trainable params: 0\n",
      "_________________________________________________________________\n"
     ]
    }
   ],
   "source": [
    "model.summary()"
   ]
  },
  {
   "cell_type": "markdown",
   "metadata": {},
   "source": [
    "The model will use:\n",
    "* The adam optimizer\n",
    "* Categorical cross entropy as a loss function to guide training\n",
    "* Accuracy as a metric\n",
    "* Be trained over 20 epochs"
   ]
  },
  {
   "cell_type": "code",
   "execution_count": 10,
   "metadata": {},
   "outputs": [],
   "source": [
    "model.compile(optimizer='adam', loss='categorical_crossentropy', metrics=['accuracy'])"
   ]
  },
  {
   "cell_type": "markdown",
   "metadata": {},
   "source": [
    "The model will be trained for 20 epochs. Each epoch represents a single pass through the training data. "
   ]
  },
  {
   "cell_type": "code",
   "execution_count": 11,
   "metadata": {
    "scrolled": true
   },
   "outputs": [
    {
     "name": "stderr",
     "output_type": "stream",
     "text": [
      "W0716 15:27:15.477333 140267820738304 deprecation.py:323] From /home/david/anaconda3/lib/python3.7/site-packages/tensorflow/python/ops/math_ops.py:3066: to_int32 (from tensorflow.python.ops.math_ops) is deprecated and will be removed in a future version.\n",
      "Instructions for updating:\n",
      "Use tf.cast instead.\n"
     ]
    },
    {
     "name": "stdout",
     "output_type": "stream",
     "text": [
      "Train on 51000 samples, validate on 9000 samples\n",
      "Epoch 1/20\n",
      "51000/51000 [==============================] - 5s 100us/step - loss: 0.3851 - acc: 0.8831 - val_loss: 0.2179 - val_acc: 0.9341\n",
      "Epoch 2/20\n",
      "51000/51000 [==============================] - 4s 84us/step - loss: 0.1714 - acc: 0.9500 - val_loss: 0.1538 - val_acc: 0.9543\n",
      "Epoch 3/20\n",
      "51000/51000 [==============================] - 4s 84us/step - loss: 0.1378 - acc: 0.9583 - val_loss: 0.1648 - val_acc: 0.9498\n",
      "Epoch 4/20\n",
      "51000/51000 [==============================] - 4s 85us/step - loss: 0.1164 - acc: 0.9646 - val_loss: 0.1426 - val_acc: 0.9577\n",
      "Epoch 5/20\n",
      "51000/51000 [==============================] - 4s 82us/step - loss: 0.1026 - acc: 0.9690 - val_loss: 0.1326 - val_acc: 0.9622\n",
      "Epoch 6/20\n",
      "51000/51000 [==============================] - 4s 85us/step - loss: 0.0926 - acc: 0.9715 - val_loss: 0.1474 - val_acc: 0.9599\n",
      "Epoch 7/20\n",
      "51000/51000 [==============================] - 4s 83us/step - loss: 0.0834 - acc: 0.9742 - val_loss: 0.1302 - val_acc: 0.9620\n",
      "Epoch 8/20\n",
      "51000/51000 [==============================] - 4s 84us/step - loss: 0.0764 - acc: 0.9767 - val_loss: 0.1192 - val_acc: 0.9671\n",
      "Epoch 9/20\n",
      "51000/51000 [==============================] - 4s 83us/step - loss: 0.0679 - acc: 0.9789 - val_loss: 0.1194 - val_acc: 0.9669\n",
      "Epoch 10/20\n",
      "51000/51000 [==============================] - 4s 81us/step - loss: 0.0662 - acc: 0.9791 - val_loss: 0.1178 - val_acc: 0.9680\n",
      "Epoch 11/20\n",
      "51000/51000 [==============================] - 4s 85us/step - loss: 0.0627 - acc: 0.9805 - val_loss: 0.1282 - val_acc: 0.9641\n",
      "Epoch 12/20\n",
      "51000/51000 [==============================] - 4s 83us/step - loss: 0.0577 - acc: 0.9821 - val_loss: 0.1218 - val_acc: 0.9679\n",
      "Epoch 13/20\n",
      "51000/51000 [==============================] - 4s 84us/step - loss: 0.0521 - acc: 0.9832 - val_loss: 0.1379 - val_acc: 0.9638\n",
      "Epoch 14/20\n",
      "51000/51000 [==============================] - 4s 85us/step - loss: 0.0508 - acc: 0.9840 - val_loss: 0.1351 - val_acc: 0.9659\n",
      "Epoch 15/20\n",
      "51000/51000 [==============================] - 4s 82us/step - loss: 0.0481 - acc: 0.9846 - val_loss: 0.1225 - val_acc: 0.9694\n",
      "Epoch 16/20\n",
      "51000/51000 [==============================] - 4s 84us/step - loss: 0.0454 - acc: 0.9853 - val_loss: 0.1707 - val_acc: 0.9583\n",
      "Epoch 17/20\n",
      "51000/51000 [==============================] - 4s 84us/step - loss: 0.0434 - acc: 0.9865 - val_loss: 0.1577 - val_acc: 0.9657\n",
      "Epoch 18/20\n",
      "51000/51000 [==============================] - 4s 81us/step - loss: 0.0423 - acc: 0.9862 - val_loss: 0.1477 - val_acc: 0.9646\n",
      "Epoch 19/20\n",
      "51000/51000 [==============================] - 4s 82us/step - loss: 0.0396 - acc: 0.9872 - val_loss: 0.1310 - val_acc: 0.9683\n",
      "Epoch 20/20\n",
      "51000/51000 [==============================] - 4s 83us/step - loss: 0.0372 - acc: 0.9883 - val_loss: 0.1607 - val_acc: 0.9599\n"
     ]
    }
   ],
   "source": [
    "first_model_output = model.fit(X_train, y_train, epochs=20, validation_data=(X_validate, y_validate))\n",
    "first_model = model"
   ]
  },
  {
   "cell_type": "markdown",
   "metadata": {},
   "source": [
    "For every epoch, both the loss and accuracy for the training data and validation data can be extracted into a Pandas dataframe."
   ]
  },
  {
   "cell_type": "code",
   "execution_count": 12,
   "metadata": {},
   "outputs": [],
   "source": [
    "metrics_first = pd.DataFrame(first_model_output.history)\n",
    "\n",
    "# The index of the metrics dataframe is zero indexed to the epoch number. As such, add one\n",
    "# to the index so that Epoch 0 becomes Epoch 1.\n",
    "metrics_first.index = metrics_first.index+1"
   ]
  },
  {
   "cell_type": "markdown",
   "metadata": {},
   "source": [
    "A function will be created that will plot the accuracy/loss for the training/validation datasets."
   ]
  },
  {
   "cell_type": "code",
   "execution_count": 15,
   "metadata": {
    "scrolled": false
   },
   "outputs": [],
   "source": [
    "def plot_accuracy_loss(df):\n",
    "    '''The function takes a dataframe that is a Keras model's output history and plots\n",
    "       the accuracy/loss information for both the training and validation datasets '''\n",
    "    \n",
    "\n",
    "    fig, ax = plt.subplots(1, 2, figsize=(16, 6))\n",
    "\n",
    "    sns.lineplot(data=df, ax=ax[0], x = df.index, y='acc', label='Training Data')\n",
    "    sns.lineplot(data=df, ax=ax[0], x = df.index, y='val_acc', label='Validation Data')\n",
    "\n",
    "    sns.lineplot(data=df, ax=ax[1], x = df.index, y='loss', label='Training Data')\n",
    "    sns.lineplot(data=df, ax=ax[1], x = df.index, y='val_loss', label='Validation Data')\n",
    "\n",
    "    fig.suptitle('Accuracy and Loss Across 20 Epochs', fontsize=20)\n",
    "\n",
    "    ax[0].set_title('Accuracy')\n",
    "    ax[0].set_xlabel('Epoch')\n",
    "    ax[0].set_ylabel('Accuracy')\n",
    "    ax[0].xaxis.set_major_locator(MultipleLocator(1))\n",
    "    ax[0].legend()\n",
    "\n",
    "    ax[1].set_title('Loss')\n",
    "    ax[1].set_xlabel('Epoch')\n",
    "    ax[1].set_ylabel('Loss')\n",
    "    ax[1].xaxis.set_major_locator(MultipleLocator(1))\n",
    "    ax[1].legend()\n"
   ]
  },
  {
   "cell_type": "markdown",
   "metadata": {},
   "source": [
    "Having defined the function, it can be called to plot the accuracy and loss for the training and validation datasets across the 20 epochs."
   ]
  },
  {
   "cell_type": "code",
   "execution_count": 16,
   "metadata": {},
   "outputs": [
    {
     "data": {
      "image/png": "[encoded data removed]",
      "text/plain": [
       "<Figure size 1152x432 with 2 Axes>"
      ]
     },
     "metadata": {
      "needs_background": "light"
     },
     "output_type": "display_data"
    }
   ],
   "source": [
    "plot_accuracy_loss(metrics_first)"
   ]
  },
  {
   "cell_type": "markdown",
   "metadata": {},
   "source": [
    "As can be seen in the plot on the top left, the accuracy of the training data quickly increases in the first three epochs, followed by a gradual, but non-stop climb towards 100%. This is despite the accuracy on the validation data plateauing  at around 96% after approximately the 6th epoch. This shows that after approximately 6 epochs, the model is  overfitted. \n",
    "\n",
    "Something similar happens to the loss. As can be seen in the plot on the top right, the loss for the training data approaches zero as the epochs increase. However, the loss for the validation data plateaus at around 0.15 after approximately 6 epochs. This is further evidence that the model is overfitting after 6 epochs."
   ]
  },
  {
   "cell_type": "markdown",
   "metadata": {},
   "source": [
    "An estimate of the accuracy of the model can be made by taking the mean and standard deviation of the accuracy on the validation data for the epochs 6 through to 20. "
   ]
  },
  {
   "cell_type": "code",
   "execution_count": 18,
   "metadata": {},
   "outputs": [
    {
     "name": "stdout",
     "output_type": "stream",
     "text": [
      "Accuracy on validation data after overfitting is 0.965 ± 0.003\n"
     ]
    }
   ],
   "source": [
    "mean = metrics_first['val_acc'][5:20].mean()\n",
    "std = metrics_first['val_acc'][5:20].std()\n",
    "\n",
    "print('Accuracy on validation data after overfitting is {:.3f} \\u00B1 {:.3f}'.format(mean, std))"
   ]
  },
  {
   "cell_type": "markdown",
   "metadata": {},
   "source": [
    "To determine the accuracy of the model on the test data, predictions can be made."
   ]
  },
  {
   "cell_type": "code",
   "execution_count": 19,
   "metadata": {},
   "outputs": [],
   "source": [
    "predictions = first_model.predict(X_test)"
   ]
  },
  {
   "cell_type": "markdown",
   "metadata": {},
   "source": [
    "The digit that will be predicted is simply the argument of the array that is the maximum."
   ]
  },
  {
   "cell_type": "code",
   "execution_count": 20,
   "metadata": {},
   "outputs": [],
   "source": [
    "predictions = [np.argmax(x) for x in predictions]"
   ]
  },
  {
   "cell_type": "markdown",
   "metadata": {},
   "source": [
    "Create the list `y_test_digits` that reverses the one-hot coding."
   ]
  },
  {
   "cell_type": "code",
   "execution_count": 21,
   "metadata": {},
   "outputs": [],
   "source": [
    "y_test_digits = [np.argmax(x) for x in y_test]"
   ]
  },
  {
   "cell_type": "markdown",
   "metadata": {},
   "source": [
    "Use the `accuracy_score` function from `sklearn.metrics` to determine the accuracy."
   ]
  },
  {
   "cell_type": "code",
   "execution_count": 22,
   "metadata": {},
   "outputs": [
    {
     "data": {
      "text/plain": [
       "0.9636"
      ]
     },
     "execution_count": 22,
     "metadata": {},
     "output_type": "execute_result"
    }
   ],
   "source": [
    "accuracy_score(predictions, y_test_digits)"
   ]
  },
  {
   "cell_type": "markdown",
   "metadata": {},
   "source": [
    "More simply, Keras allows the direct evaluation of the model with the following simple command. However, this command obscures the actual predictions of the model. The first number in the array below is the loss and the second element is the accuracy, which is the same as determined before."
   ]
  },
  {
   "cell_type": "code",
   "execution_count": 23,
   "metadata": {},
   "outputs": [
    {
     "name": "stdout",
     "output_type": "stream",
     "text": [
      "10000/10000 [==============================] - 0s 40us/step\n"
     ]
    },
    {
     "data": {
      "text/plain": [
       "[0.1468432704907842, 0.9636]"
      ]
     },
     "execution_count": 23,
     "metadata": {},
     "output_type": "execute_result"
    }
   ],
   "source": [
    "first_model.evaluate(X_test, y_test)"
   ]
  },
  {
   "cell_type": "markdown",
   "metadata": {},
   "source": [
    "In an effort to show what learning the model has made, a display of digits versus their predicted labels is shown below for a random selection of the test data."
   ]
  },
  {
   "cell_type": "code",
   "execution_count": 24,
   "metadata": {},
   "outputs": [
    {
     "data": {
      "image/png": "[encoded data removed]",
      "text/plain": [
       "<Figure size 432x432 with 9 Axes>"
      ]
     },
     "metadata": {
      "needs_background": "light"
     },
     "output_type": "display_data"
    }
   ],
   "source": [
    "# Obtain a random selection of 9 digit images \n",
    "random_indices = [randrange(X_test.shape[0]) for x in range(9)]\n",
    "random_indices_copy = random_indices # A copy has been made because pop will be used later\n",
    "X_images = X_test[random_indices]\n",
    "\n",
    "# Determine the predictions of these 9 images\n",
    "predictions = first_model.predict(X_images)\n",
    "predictions = [np.argmax(x) for x in predictions]\n",
    "\n",
    "# Create the figure\n",
    "fig, ax = plt.subplots(3, 3, figsize=(6,6))\n",
    "fig.suptitle('Predictions From Neural Network', fontsize=20)\n",
    "\n",
    "for i in [0,1,2]:           # loop across the three rows\n",
    "    for j in [0,1,2]:       # loop across the three columns\n",
    "        \n",
    "        # Obtain the first or next random index\n",
    "        random_index = random_indices_copy.pop(0)\n",
    "        \n",
    "        # Obtain the prediction for this digit\n",
    "        digit_prediction = predictions.pop(0)\n",
    "        \n",
    "        # Plot the digit and show the prediction\n",
    "        ax[i,j].imshow(X_test[random_index].reshape(28,28), interpolation='none')\n",
    "        ax[i,j].set_axis_off()\n",
    "        ax[i,j].set_title(digit_prediction, fontsize=16)\n",
    "    "
   ]
  },
  {
   "cell_type": "markdown",
   "metadata": {},
   "source": [
    "## CNN Model"
   ]
  },
  {
   "cell_type": "markdown",
   "metadata": {},
   "source": [
    "The second model that will be built will be a convolutional neural network. The network will have:\n",
    "* An initial 20 convolutions of kernel size 5x5. \n",
    "* A 2x2 max pooling layer.\n",
    "* A layer of 40 convolutions of kernel size 3x3.\n",
    "* A 2x2 max pooling layer.\n",
    "* A 0.2 dropout layer.\n",
    "* A layer of 60 convolutions of kernel size 2x2.\n",
    "* A 2x2 max pooling layer.\n",
    "* A 0.2 dropout layer.\n",
    "\n",
    "The result of this will be flattened and connected to:\n",
    "\n",
    "* A dense layer of 100 neurons.\n",
    "* A 0.2 dropout layer.\n",
    "* A final dense layer of 10 neurons that corresponds to the 10 digits.\n",
    "\n",
    "All neurons will have the ReLU activation, except for the last layer that will have a softmax activation.\n",
    "\n",
    "The model can be easily constucted using Keras as shown below. \n"
   ]
  },
  {
   "cell_type": "code",
   "execution_count": 25,
   "metadata": {},
   "outputs": [
    {
     "name": "stderr",
     "output_type": "stream",
     "text": [
      "W0716 15:31:33.643334 140267820738304 deprecation.py:506] From /home/david/anaconda3/lib/python3.7/site-packages/keras/backend/tensorflow_backend.py:3445: calling dropout (from tensorflow.python.ops.nn_ops) with keep_prob is deprecated and will be removed in a future version.\n",
      "Instructions for updating:\n",
      "Please use `rate` instead of `keep_prob`. Rate should be set to `rate = 1 - keep_prob`.\n"
     ]
    }
   ],
   "source": [
    "#create model\n",
    "model = Sequential()\n",
    "\n",
    "#add model layers\n",
    "model.add(Conv2D(20, kernel_size=(5,5), activation='relu', input_shape=(28,28,1)))\n",
    "model.add(MaxPooling2D(pool_size=(2,2)))\n",
    "#model.add(Dropout(0.2))\n",
    "\n",
    "model.add(Conv2D(40, kernel_size=(3,3), activation='relu'))\n",
    "model.add(MaxPooling2D(pool_size=(2,2)))\n",
    "model.add(Dropout(0.2))\n",
    "\n",
    "model.add(Conv2D(60, kernel_size=(2,2), activation='relu'))\n",
    "model.add(MaxPooling2D(pool_size=(2,2)))\n",
    "model.add(Dropout(0.2))\n",
    "\n",
    "model.add(Flatten())\n",
    "model.add(Dense(100, activation='relu'))\n",
    "model.add(Dropout(0.2))\n",
    "\n",
    "model.add(Dense(10, activation='softmax'))"
   ]
  },
  {
   "cell_type": "markdown",
   "metadata": {},
   "source": [
    "A summary of the model can be made."
   ]
  },
  {
   "cell_type": "code",
   "execution_count": 26,
   "metadata": {},
   "outputs": [
    {
     "name": "stdout",
     "output_type": "stream",
     "text": [
      "_________________________________________________________________\n",
      "Layer (type)                 Output Shape              Param #   \n",
      "=================================================================\n",
      "conv2d_1 (Conv2D)            (None, 24, 24, 20)        520       \n",
      "_________________________________________________________________\n",
      "max_pooling2d_1 (MaxPooling2 (None, 12, 12, 20)        0         \n",
      "_________________________________________________________________\n",
      "conv2d_2 (Conv2D)            (None, 10, 10, 40)        7240      \n",
      "_________________________________________________________________\n",
      "max_pooling2d_2 (MaxPooling2 (None, 5, 5, 40)          0         \n",
      "_________________________________________________________________\n",
      "dropout_1 (Dropout)          (None, 5, 5, 40)          0         \n",
      "_________________________________________________________________\n",
      "conv2d_3 (Conv2D)            (None, 4, 4, 60)          9660      \n",
      "_________________________________________________________________\n",
      "max_pooling2d_3 (MaxPooling2 (None, 2, 2, 60)          0         \n",
      "_________________________________________________________________\n",
      "dropout_2 (Dropout)          (None, 2, 2, 60)          0         \n",
      "_________________________________________________________________\n",
      "flatten_2 (Flatten)          (None, 240)               0         \n",
      "_________________________________________________________________\n",
      "dense_7 (Dense)              (None, 100)               24100     \n",
      "_________________________________________________________________\n",
      "dropout_3 (Dropout)          (None, 100)               0         \n",
      "_________________________________________________________________\n",
      "dense_8 (Dense)              (None, 10)                1010      \n",
      "=================================================================\n",
      "Total params: 42,530\n",
      "Trainable params: 42,530\n",
      "Non-trainable params: 0\n",
      "_________________________________________________________________\n"
     ]
    }
   ],
   "source": [
    "model.summary()"
   ]
  },
  {
   "cell_type": "markdown",
   "metadata": {},
   "source": [
    "The model will have:\n",
    "* The adam optimizer\n",
    "* Categorical cross entropy as a loss function to guide training\n",
    "* Accuracy as a metric"
   ]
  },
  {
   "cell_type": "code",
   "execution_count": 27,
   "metadata": {},
   "outputs": [],
   "source": [
    "model.compile(optimizer='adam', loss='categorical_crossentropy', metrics=['accuracy'])"
   ]
  },
  {
   "cell_type": "markdown",
   "metadata": {},
   "source": [
    "The model will be trained for 20 epochs."
   ]
  },
  {
   "cell_type": "code",
   "execution_count": 28,
   "metadata": {
    "scrolled": true
   },
   "outputs": [
    {
     "name": "stdout",
     "output_type": "stream",
     "text": [
      "Train on 51000 samples, validate on 9000 samples\n",
      "Epoch 1/20\n",
      "51000/51000 [==============================] - 44s 861us/step - loss: 0.3052 - acc: 0.9018 - val_loss: 0.0687 - val_acc: 0.9784\n",
      "Epoch 2/20\n",
      "51000/51000 [==============================] - 43s 835us/step - loss: 0.1004 - acc: 0.9688 - val_loss: 0.0569 - val_acc: 0.9817\n",
      "Epoch 3/20\n",
      "51000/51000 [==============================] - 45s 889us/step - loss: 0.0751 - acc: 0.9769 - val_loss: 0.0419 - val_acc: 0.9873\n",
      "Epoch 4/20\n",
      "51000/51000 [==============================] - 46s 900us/step - loss: 0.0632 - acc: 0.9808 - val_loss: 0.0418 - val_acc: 0.9874\n",
      "Epoch 5/20\n",
      "51000/51000 [==============================] - 44s 862us/step - loss: 0.0577 - acc: 0.9821 - val_loss: 0.0360 - val_acc: 0.9894\n",
      "Epoch 6/20\n",
      "51000/51000 [==============================] - 42s 824us/step - loss: 0.0514 - acc: 0.9844 - val_loss: 0.0360 - val_acc: 0.9888\n",
      "Epoch 7/20\n",
      "51000/51000 [==============================] - 42s 828us/step - loss: 0.0453 - acc: 0.9867 - val_loss: 0.0319 - val_acc: 0.9910\n",
      "Epoch 8/20\n",
      "51000/51000 [==============================] - 45s 881us/step - loss: 0.0424 - acc: 0.9868 - val_loss: 0.0360 - val_acc: 0.9897\n",
      "Epoch 9/20\n",
      "51000/51000 [==============================] - 41s 806us/step - loss: 0.0388 - acc: 0.9878 - val_loss: 0.0350 - val_acc: 0.9891\n",
      "Epoch 10/20\n",
      "51000/51000 [==============================] - 43s 847us/step - loss: 0.0391 - acc: 0.9874 - val_loss: 0.0329 - val_acc: 0.9900\n",
      "Epoch 11/20\n",
      "51000/51000 [==============================] - 45s 891us/step - loss: 0.0363 - acc: 0.9886 - val_loss: 0.0385 - val_acc: 0.9894\n",
      "Epoch 12/20\n",
      "51000/51000 [==============================] - 45s 878us/step - loss: 0.0337 - acc: 0.9894 - val_loss: 0.0333 - val_acc: 0.9911\n",
      "Epoch 13/20\n",
      "51000/51000 [==============================] - 43s 838us/step - loss: 0.0332 - acc: 0.9895 - val_loss: 0.0312 - val_acc: 0.9916\n",
      "Epoch 14/20\n",
      "51000/51000 [==============================] - 44s 856us/step - loss: 0.0333 - acc: 0.9895 - val_loss: 0.0316 - val_acc: 0.9914\n",
      "Epoch 15/20\n",
      "51000/51000 [==============================] - 42s 816us/step - loss: 0.0297 - acc: 0.9908 - val_loss: 0.0277 - val_acc: 0.9916\n",
      "Epoch 16/20\n",
      "51000/51000 [==============================] - 44s 870us/step - loss: 0.0304 - acc: 0.9905 - val_loss: 0.0290 - val_acc: 0.9919\n",
      "Epoch 17/20\n",
      "51000/51000 [==============================] - 42s 821us/step - loss: 0.0288 - acc: 0.9912 - val_loss: 0.0321 - val_acc: 0.9922\n",
      "Epoch 18/20\n",
      "51000/51000 [==============================] - 41s 798us/step - loss: 0.0283 - acc: 0.9908 - val_loss: 0.0333 - val_acc: 0.9921\n",
      "Epoch 19/20\n",
      "51000/51000 [==============================] - 40s 776us/step - loss: 0.0287 - acc: 0.9909 - val_loss: 0.0308 - val_acc: 0.9909\n",
      "Epoch 20/20\n",
      "51000/51000 [==============================] - 40s 790us/step - loss: 0.0264 - acc: 0.9921 - val_loss: 0.0335 - val_acc: 0.9916\n"
     ]
    }
   ],
   "source": [
    "second_model_output = model.fit(X_train, y_train, epochs=20,  validation_data=(X_validate, y_validate))\n",
    "second_model = model"
   ]
  },
  {
   "cell_type": "markdown",
   "metadata": {},
   "source": [
    "For every epoch, both the loss and accuracy for the training data and validation data can be extracted into a Pandas dataframe."
   ]
  },
  {
   "cell_type": "code",
   "execution_count": 29,
   "metadata": {},
   "outputs": [],
   "source": [
    "metrics_second = pd.DataFrame(second_model_output.history)\n",
    "\n",
    "# The index of the dataframe is zero indexed to the epoch number. As such, add one\n",
    "# to the index so that Epoch 0 becomes Epoch 1.\n",
    "metrics_second.index = metrics_second.index+1"
   ]
  },
  {
   "cell_type": "markdown",
   "metadata": {},
   "source": [
    "The accuracy and loss across the 20 epochs can be plotted for the model using the previously defined function `plot_accuracy_loss`. "
   ]
  },
  {
   "cell_type": "code",
   "execution_count": 30,
   "metadata": {},
   "outputs": [
    {
     "data": {
      "image/png": "[encoded data removed]",
      "text/plain": [
       "<Figure size 1152x432 with 2 Axes>"
      ]
     },
     "metadata": {
      "needs_background": "light"
     },
     "output_type": "display_data"
    }
   ],
   "source": [
    "plot_accuracy_loss(metrics_second)"
   ]
  },
  {
   "cell_type": "markdown",
   "metadata": {},
   "source": [
    "As can be seen on the top left plot, the model performs overall better on the validation data than the training data. This is due to the two dropout layers that were used in the network that helped prevent overfitting from occuring. The plot shows that after around the 11th epoch, the model's ability to predict the validation data begins to plateau. \n",
    "The plot on the top right shows a similar plateau of theh loss in the validation data around the 11th epoch. "
   ]
  },
  {
   "cell_type": "markdown",
   "metadata": {},
   "source": [
    "The model's accuracy on the test data can be evaluated. "
   ]
  },
  {
   "cell_type": "code",
   "execution_count": 31,
   "metadata": {},
   "outputs": [
    {
     "name": "stdout",
     "output_type": "stream",
     "text": [
      "10000/10000 [==============================] - 4s 399us/step\n"
     ]
    },
    {
     "data": {
      "text/plain": [
       "[0.022483871061735407, 0.993]"
      ]
     },
     "execution_count": 31,
     "metadata": {},
     "output_type": "execute_result"
    }
   ],
   "source": [
    "second_model.evaluate(X_test, y_test)"
   ]
  },
  {
   "cell_type": "markdown",
   "metadata": {},
   "source": [
    "## Where did the predictions go wrong?"
   ]
  },
  {
   "cell_type": "markdown",
   "metadata": {},
   "source": [
    "It would be interesting to see what images the CNN is unable to correctly predict. First determine all the predictions on the X_test dataset and reverse the one-hot encoding on the y_test."
   ]
  },
  {
   "cell_type": "code",
   "execution_count": 32,
   "metadata": {},
   "outputs": [],
   "source": [
    "predictions = second_model.predict(X_test)\n",
    "predictions = [np.argmax(x) for x in predictions]\n",
    "y_test_digits = [np.argmax(x) for x in y_test]"
   ]
  },
  {
   "cell_type": "markdown",
   "metadata": {},
   "source": [
    "Determine which indices of the predictions are incorrect."
   ]
  },
  {
   "cell_type": "code",
   "execution_count": 33,
   "metadata": {},
   "outputs": [],
   "source": [
    "incorrect = []\n",
    "\n",
    "# Cycle through the indices of the y_test_digits and see if the actual digit matches\n",
    "# the prediction\n",
    "for i in range(len(y_test_digits)):\n",
    "    \n",
    "    if y_test_digits[i] != predictions[i]:\n",
    "        \n",
    "        incorrect.append(i)"
   ]
  },
  {
   "cell_type": "markdown",
   "metadata": {},
   "source": [
    "Plot a random sample of 9 digits that were predicted incorrectly."
   ]
  },
  {
   "cell_type": "code",
   "execution_count": 34,
   "metadata": {},
   "outputs": [
    {
     "data": {
      "image/png": "[encoded data removed]",
      "text/plain": [
       "<Figure size 432x432 with 9 Axes>"
      ]
     },
     "metadata": {
      "needs_background": "light"
     },
     "output_type": "display_data"
    }
   ],
   "source": [
    "# Obtain a random selection of the incorrect of 9 digit images \n",
    "incorrect_sample = sample(incorrect, 9)\n",
    "incorrect_sample_copy = incorrect_sample # A copy has been made because pop will be used later\n",
    "X_images = X_test[incorrect_sample]\n",
    "\n",
    "# Determine the predictions of these 9 images\n",
    "#predictions_incorrect_sample = predictions[incorrect_sample]\n",
    "\n",
    "predictions_incorrect_sample = []\n",
    "\n",
    "for i in incorrect_sample:\n",
    "    predictions_incorrect_sample.append(predictions[i])\n",
    "\n",
    "\n",
    "# Create the figure\n",
    "fig, ax = plt.subplots(3, 3, figsize=(6,6))\n",
    "fig.suptitle('Predictions From Neural Network', fontsize=20)\n",
    "\n",
    "for i in [0,1,2]:           # loop across the three rows\n",
    "    for j in [0,1,2]:       # loop across the three columns\n",
    "        \n",
    "        # Obtain the first or next random index\n",
    "        random_index = incorrect_sample.pop(0)\n",
    "        \n",
    "        # Obtain the prediction for this digit\n",
    "        digit_prediction = predictions_incorrect_sample.pop(0)\n",
    "        \n",
    "        # Plot the digit and show the prediction\n",
    "        ax[i,j].imshow(X_test[random_index].reshape(28,28), interpolation='none')\n",
    "        ax[i,j].set_axis_off()\n",
    "        ax[i,j].set_title(digit_prediction, fontsize=16)"
   ]
  },
  {
   "cell_type": "markdown",
   "metadata": {},
   "source": [
    "As can be seen, the images that the CNN provided incorrect predictions are either badly drawn or have features that trick the model."
   ]
  },
  {
   "cell_type": "markdown",
   "metadata": {},
   "source": [
    "## Conclusion\n",
    "\n",
    "In this notebook, two neural network models were constructed that when given an image of a handwritten digit, they were able to determine what that digit was. The dataset that was used was the MNIST dataset that was obtained through the Tensorflow package.\n",
    "The first neural network that was constructed was a neural network that had five hidden layers. It was found to have an accuracy of 96% on the test data. \n",
    "The second neural network that was constructed was a convolutional neural network. This network was able to achieve an accuracy of 99%. \n",
    "Finally, a sample of images that the CNN model was unable to predict correctly was studied."
   ]
  }
 ],
 "metadata": {
  "kernelspec": {
   "display_name": "Python 3",
   "language": "python",
   "name": "python3"
  },
  "language_info": {
   "codemirror_mode": {
    "name": "ipython",
    "version": 3
   },
   "file_extension": ".py",
   "mimetype": "text/x-python",
   "name": "python",
   "nbconvert_exporter": "python",
   "pygments_lexer": "ipython3",
   "version": "3.7.1"
  }
 },
 "nbformat": 4,
 "nbformat_minor": 2
}
