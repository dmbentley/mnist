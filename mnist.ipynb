{
 "cells": [
  {
   "cell_type": "code",
   "execution_count": 1,
   "metadata": {},
   "outputs": [
    {
     "name": "stdout",
     "output_type": "stream",
     "text": [
      "\n",
      "WARNING: The TensorFlow contrib module will not be included in TensorFlow 2.0.\n",
      "For more information, please see:\n",
      "  * https://github.com/tensorflow/community/blob/master/rfcs/20180907-contrib-sunset.md\n",
      "  * https://github.com/tensorflow/addons\n",
      "If you depend on functionality not listed there, please file an issue.\n",
      "\n"
     ]
    },
    {
     "name": "stderr",
     "output_type": "stream",
     "text": [
      "Using TensorFlow backend.\n"
     ]
    }
   ],
   "source": [
    "import numpy as np\n",
    "import pandas as pd\n",
    "import tensorflow as tf\n",
    "import tensorflow_datasets as tfds\n",
    "from sklearn.model_selection import train_test_split\n",
    "from sklearn.metrics import accuracy_score\n",
    "import matplotlib.pyplot as plt\n",
    "import seaborn as sns\n",
    "\n",
    "from keras.models import Sequential\n",
    "from keras.layers import Dense, Conv2D, Flatten, MaxPooling2D, Dropout\n",
    "from keras.utils.np_utils import to_categorical\n"
   ]
  },
  {
   "cell_type": "code",
   "execution_count": 2,
   "metadata": {},
   "outputs": [
    {
     "name": "stdout",
     "output_type": "stream",
     "text": [
      "WARNING:tensorflow:From /home/david/anaconda3/lib/python3.7/site-packages/tensorflow/python/ops/control_flow_ops.py:423: colocate_with (from tensorflow.python.framework.ops) is deprecated and will be removed in a future version.\n",
      "Instructions for updating:\n",
      "Colocations handled automatically by placer.\n"
     ]
    },
    {
     "name": "stderr",
     "output_type": "stream",
     "text": [
      "WARNING: Logging before flag parsing goes to stderr.\n",
      "W0604 17:44:16.898061 140371278567168 deprecation.py:323] From /home/david/anaconda3/lib/python3.7/site-packages/tensorflow/python/ops/control_flow_ops.py:423: colocate_with (from tensorflow.python.framework.ops) is deprecated and will be removed in a future version.\n",
      "Instructions for updating:\n",
      "Colocations handled automatically by placer.\n"
     ]
    }
   ],
   "source": [
    "download_data = True\n",
    "\n",
    "if download_data:\n",
    "    \n",
    "    data, info = tfds.load('mnist', with_info=True, data_dir='./data')\n",
    "\n",
    "else:\n",
    "        \n",
    "    data, info = tfds.load('mnist', with_info=True, download=False, data_dir='./data')"
   ]
  },
  {
   "cell_type": "code",
   "execution_count": 3,
   "metadata": {},
   "outputs": [],
   "source": [
    "train_data = tfds.as_numpy(data['train'])\n",
    "test_data = tfds.as_numpy(data['test'])"
   ]
  },
  {
   "cell_type": "code",
   "execution_count": 4,
   "metadata": {},
   "outputs": [],
   "source": [
    "X = []\n",
    "y = []\n",
    "\n",
    "for digit in train_data:\n",
    "    \n",
    "    X.append(digit['image'])\n",
    "    y.append(digit['label'])       \n",
    "\n",
    "X = np.array(X)/255\n",
    "y = np.array(y)\n",
    "\n",
    "y = to_categorical(y)"
   ]
  },
  {
   "cell_type": "code",
   "execution_count": 5,
   "metadata": {},
   "outputs": [],
   "source": [
    "X_test = []\n",
    "y_test = []\n",
    "\n",
    "for digit in test_data:\n",
    "    \n",
    "    X_test.append(digit['image'])\n",
    "    y_test.append(digit['label'])       \n",
    "\n",
    "X_test = np.array(X_test)/255\n",
    "y_test = np.array(y_test)\n",
    "\n",
    "y_test = to_categorical(y_test)"
   ]
  },
  {
   "cell_type": "code",
   "execution_count": 6,
   "metadata": {},
   "outputs": [],
   "source": [
    "X_train, X_validate, y_train, y_validate = train_test_split(X, y, test_size=0.15, random_state=0)"
   ]
  },
  {
   "cell_type": "code",
   "execution_count": 7,
   "metadata": {},
   "outputs": [
    {
     "data": {
      "image/png": "[encoded data removed]",
      "text/plain": [
       "<Figure size 432x288 with 1 Axes>"
      ]
     },
     "metadata": {
      "needs_background": "light"
     },
     "output_type": "display_data"
    },
    {
     "name": "stdout",
     "output_type": "stream",
     "text": [
      "[1. 0. 0. 0. 0. 0. 0. 0. 0. 0.]\n"
     ]
    }
   ],
   "source": [
    "i = 10\n",
    "plt.gray()\n",
    "plt.imshow(X_train[i].reshape(28,28), interpolation='none')\n",
    "plt.show()\n",
    "\n",
    "print(y_train[i])\n"
   ]
  },
  {
   "cell_type": "markdown",
   "metadata": {},
   "source": [
    "## The First Model"
   ]
  },
  {
   "cell_type": "code",
   "execution_count": 8,
   "metadata": {},
   "outputs": [],
   "source": [
    "model = Sequential()\n",
    "\n",
    "model.add(Flatten(input_shape=X_train[0].shape))\n",
    "model.add(Dense(30, activation='relu'))\n",
    "model.add(Dense(30, activation='relu'))\n",
    "model.add(Dense(30, activation='relu'))\n",
    "model.add(Dense(30, activation='relu'))\n",
    "model.add(Dense(30, activation='relu'))\n",
    "model.add(Dense(10, activation='softmax'))"
   ]
  },
  {
   "cell_type": "code",
   "execution_count": 9,
   "metadata": {},
   "outputs": [
    {
     "name": "stdout",
     "output_type": "stream",
     "text": [
      "_________________________________________________________________\n",
      "Layer (type)                 Output Shape              Param #   \n",
      "=================================================================\n",
      "flatten_1 (Flatten)          (None, 784)               0         \n",
      "_________________________________________________________________\n",
      "dense_1 (Dense)              (None, 30)                23550     \n",
      "_________________________________________________________________\n",
      "dense_2 (Dense)              (None, 30)                930       \n",
      "_________________________________________________________________\n",
      "dense_3 (Dense)              (None, 30)                930       \n",
      "_________________________________________________________________\n",
      "dense_4 (Dense)              (None, 30)                930       \n",
      "_________________________________________________________________\n",
      "dense_5 (Dense)              (None, 30)                930       \n",
      "_________________________________________________________________\n",
      "dense_6 (Dense)              (None, 10)                310       \n",
      "=================================================================\n",
      "Total params: 27,580\n",
      "Trainable params: 27,580\n",
      "Non-trainable params: 0\n",
      "_________________________________________________________________\n"
     ]
    }
   ],
   "source": [
    "model.summary()"
   ]
  },
  {
   "cell_type": "code",
   "execution_count": 10,
   "metadata": {},
   "outputs": [],
   "source": [
    "model.compile(optimizer='adam', loss='categorical_crossentropy', metrics=['accuracy'])"
   ]
  },
  {
   "cell_type": "code",
   "execution_count": 11,
   "metadata": {},
   "outputs": [
    {
     "name": "stdout",
     "output_type": "stream",
     "text": [
      "WARNING:tensorflow:From /home/david/anaconda3/lib/python3.7/site-packages/tensorflow/python/ops/math_ops.py:3066: to_int32 (from tensorflow.python.ops.math_ops) is deprecated and will be removed in a future version.\n",
      "Instructions for updating:\n",
      "Use tf.cast instead.\n"
     ]
    },
    {
     "name": "stderr",
     "output_type": "stream",
     "text": [
      "W0604 17:44:45.154139 140371278567168 deprecation.py:323] From /home/david/anaconda3/lib/python3.7/site-packages/tensorflow/python/ops/math_ops.py:3066: to_int32 (from tensorflow.python.ops.math_ops) is deprecated and will be removed in a future version.\n",
      "Instructions for updating:\n",
      "Use tf.cast instead.\n"
     ]
    },
    {
     "name": "stdout",
     "output_type": "stream",
     "text": [
      "Train on 51000 samples, validate on 9000 samples\n",
      "Epoch 1/20\n",
      "51000/51000 [==============================] - 5s 100us/step - loss: 0.4123 - acc: 0.8724 - val_loss: 0.2408 - val_acc: 0.9257\n",
      "Epoch 2/20\n",
      "51000/51000 [==============================] - 4s 83us/step - loss: 0.1863 - acc: 0.9435 - val_loss: 0.1633 - val_acc: 0.9522\n",
      "Epoch 3/20\n",
      "51000/51000 [==============================] - 4s 83us/step - loss: 0.1425 - acc: 0.9570 - val_loss: 0.1574 - val_acc: 0.9544\n",
      "Epoch 4/20\n",
      "51000/51000 [==============================] - 4s 86us/step - loss: 0.1208 - acc: 0.9631 - val_loss: 0.1398 - val_acc: 0.9573\n",
      "Epoch 5/20\n",
      "51000/51000 [==============================] - 4s 82us/step - loss: 0.1058 - acc: 0.9686 - val_loss: 0.1318 - val_acc: 0.9608\n",
      "Epoch 6/20\n",
      "51000/51000 [==============================] - 4s 83us/step - loss: 0.0939 - acc: 0.9713 - val_loss: 0.1260 - val_acc: 0.9616\n",
      "Epoch 7/20\n",
      "51000/51000 [==============================] - 4s 85us/step - loss: 0.0861 - acc: 0.9734 - val_loss: 0.1243 - val_acc: 0.9640\n",
      "Epoch 8/20\n",
      "51000/51000 [==============================] - 4s 82us/step - loss: 0.0756 - acc: 0.9761 - val_loss: 0.1425 - val_acc: 0.9584\n",
      "Epoch 9/20\n",
      "51000/51000 [==============================] - 5s 94us/step - loss: 0.0736 - acc: 0.9772 - val_loss: 0.1233 - val_acc: 0.9644\n",
      "Epoch 10/20\n",
      "51000/51000 [==============================] - 5s 89us/step - loss: 0.0660 - acc: 0.9793 - val_loss: 0.1329 - val_acc: 0.9626\n",
      "Epoch 11/20\n",
      "51000/51000 [==============================] - 5s 92us/step - loss: 0.0626 - acc: 0.9805 - val_loss: 0.1306 - val_acc: 0.9650\n",
      "Epoch 12/20\n",
      "51000/51000 [==============================] - 5s 99us/step - loss: 0.0574 - acc: 0.9817 - val_loss: 0.1211 - val_acc: 0.9669\n",
      "Epoch 13/20\n",
      "51000/51000 [==============================] - 5s 89us/step - loss: 0.0537 - acc: 0.9826 - val_loss: 0.1320 - val_acc: 0.9667\n",
      "Epoch 14/20\n",
      "51000/51000 [==============================] - 5s 89us/step - loss: 0.0510 - acc: 0.9837 - val_loss: 0.1417 - val_acc: 0.9639\n",
      "Epoch 15/20\n",
      "51000/51000 [==============================] - 5s 95us/step - loss: 0.0486 - acc: 0.9849 - val_loss: 0.1366 - val_acc: 0.9634\n",
      "Epoch 16/20\n",
      "51000/51000 [==============================] - 5s 88us/step - loss: 0.0480 - acc: 0.9843 - val_loss: 0.1680 - val_acc: 0.9596\n",
      "Epoch 17/20\n",
      "51000/51000 [==============================] - 5s 89us/step - loss: 0.0430 - acc: 0.9860 - val_loss: 0.1300 - val_acc: 0.9677\n",
      "Epoch 18/20\n",
      "51000/51000 [==============================] - 5s 91us/step - loss: 0.0436 - acc: 0.9852 - val_loss: 0.1416 - val_acc: 0.9648\n",
      "Epoch 19/20\n",
      "51000/51000 [==============================] - 5s 89us/step - loss: 0.0402 - acc: 0.9868 - val_loss: 0.1468 - val_acc: 0.9642\n",
      "Epoch 20/20\n",
      "51000/51000 [==============================] - 5s 89us/step - loss: 0.0404 - acc: 0.9868 - val_loss: 0.1317 - val_acc: 0.9696\n"
     ]
    }
   ],
   "source": [
    "first_model_output = model.fit(X_train, y_train, epochs=20, validation_data=(X_validate, y_validate))\n",
    "first_model = model"
   ]
  },
  {
   "cell_type": "code",
   "execution_count": 12,
   "metadata": {},
   "outputs": [],
   "source": [
    "metrics = pd.DataFrame(first_model_output.history)"
   ]
  },
  {
   "cell_type": "code",
   "execution_count": 13,
   "metadata": {},
   "outputs": [
    {
     "data": {
      "text/plain": [
       "<matplotlib.axes._subplots.AxesSubplot at 0x7faa68b872e8>"
      ]
     },
     "execution_count": 13,
     "metadata": {},
     "output_type": "execute_result"
    },
    {
     "data": {
      "image/png": "[encoded data removed]",
      "text/plain": [
       "<Figure size 432x288 with 1 Axes>"
      ]
     },
     "metadata": {
      "needs_background": "light"
     },
     "output_type": "display_data"
    }
   ],
   "source": [
    "sns.lineplot(data=metrics, x = metrics.index, y='acc')\n",
    "sns.lineplot(data=metrics, x = metrics.index, y='val_acc')"
   ]
  },
  {
   "cell_type": "code",
   "execution_count": 14,
   "metadata": {},
   "outputs": [
    {
     "data": {
      "text/plain": [
       "<matplotlib.axes._subplots.AxesSubplot at 0x7faa68c22a20>"
      ]
     },
     "execution_count": 14,
     "metadata": {},
     "output_type": "execute_result"
    },
    {
     "data": {
      "image/png": "[encoded data removed]",
      "text/plain": [
       "<Figure size 432x288 with 1 Axes>"
      ]
     },
     "metadata": {
      "needs_background": "light"
     },
     "output_type": "display_data"
    }
   ],
   "source": [
    "sns.lineplot(data=metrics, x = metrics.index, y='loss')\n",
    "sns.lineplot(data=metrics, x = metrics.index, y='val_loss')"
   ]
  },
  {
   "cell_type": "code",
   "execution_count": 15,
   "metadata": {},
   "outputs": [],
   "source": [
    "predictions = first_model.predict(X_test)"
   ]
  },
  {
   "cell_type": "code",
   "execution_count": 16,
   "metadata": {},
   "outputs": [],
   "source": [
    "predictions = [np.argmax(x) for x in predictions]"
   ]
  },
  {
   "cell_type": "code",
   "execution_count": 17,
   "metadata": {},
   "outputs": [
    {
     "name": "stdout",
     "output_type": "stream",
     "text": [
      "10000/10000 [==============================] - 0s 30us/step\n"
     ]
    },
    {
     "data": {
      "text/plain": [
       "[0.1350097609926015, 0.9691]"
      ]
     },
     "execution_count": 17,
     "metadata": {},
     "output_type": "execute_result"
    }
   ],
   "source": [
    "first_model.evaluate(X_test, y_test)"
   ]
  },
  {
   "cell_type": "markdown",
   "metadata": {},
   "source": [
    "## CNN Model"
   ]
  },
  {
   "cell_type": "code",
   "execution_count": 18,
   "metadata": {},
   "outputs": [
    {
     "name": "stdout",
     "output_type": "stream",
     "text": [
      "WARNING:tensorflow:From /home/david/anaconda3/lib/python3.7/site-packages/keras/backend/tensorflow_backend.py:3445: calling dropout (from tensorflow.python.ops.nn_ops) with keep_prob is deprecated and will be removed in a future version.\n",
      "Instructions for updating:\n",
      "Please use `rate` instead of `keep_prob`. Rate should be set to `rate = 1 - keep_prob`.\n"
     ]
    },
    {
     "name": "stderr",
     "output_type": "stream",
     "text": [
      "W0604 17:46:18.601220 140371278567168 deprecation.py:506] From /home/david/anaconda3/lib/python3.7/site-packages/keras/backend/tensorflow_backend.py:3445: calling dropout (from tensorflow.python.ops.nn_ops) with keep_prob is deprecated and will be removed in a future version.\n",
      "Instructions for updating:\n",
      "Please use `rate` instead of `keep_prob`. Rate should be set to `rate = 1 - keep_prob`.\n"
     ]
    }
   ],
   "source": [
    "#create model\n",
    "model = Sequential()\n",
    "\n",
    "#add model layers\n",
    "model.add(Conv2D(20, kernel_size=(5,5), activation='relu', input_shape=(28,28,1)))\n",
    "model.add(MaxPooling2D(pool_size=(2,2)))\n",
    "#model.add(Dropout(0.2))\n",
    "\n",
    "model.add(Conv2D(40, kernel_size=(3,3), activation='relu'))\n",
    "model.add(MaxPooling2D(pool_size=(2,2)))\n",
    "model.add(Dropout(0.2))\n",
    "\n",
    "model.add(Conv2D(60, kernel_size=(2,2), activation='relu'))\n",
    "model.add(MaxPooling2D(pool_size=(2,2)))\n",
    "model.add(Dropout(0.2))\n",
    "\n",
    "model.add(Flatten())\n",
    "model.add(Dense(100, activation='relu'))\n",
    "model.add(Dropout(0.2))\n",
    "\n",
    "model.add(Dense(10, activation='softmax'))"
   ]
  },
  {
   "cell_type": "code",
   "execution_count": 19,
   "metadata": {},
   "outputs": [
    {
     "name": "stdout",
     "output_type": "stream",
     "text": [
      "_________________________________________________________________\n",
      "Layer (type)                 Output Shape              Param #   \n",
      "=================================================================\n",
      "conv2d_1 (Conv2D)            (None, 24, 24, 20)        520       \n",
      "_________________________________________________________________\n",
      "max_pooling2d_1 (MaxPooling2 (None, 12, 12, 20)        0         \n",
      "_________________________________________________________________\n",
      "conv2d_2 (Conv2D)            (None, 10, 10, 40)        7240      \n",
      "_________________________________________________________________\n",
      "max_pooling2d_2 (MaxPooling2 (None, 5, 5, 40)          0         \n",
      "_________________________________________________________________\n",
      "dropout_1 (Dropout)          (None, 5, 5, 40)          0         \n",
      "_________________________________________________________________\n",
      "conv2d_3 (Conv2D)            (None, 4, 4, 60)          9660      \n",
      "_________________________________________________________________\n",
      "max_pooling2d_3 (MaxPooling2 (None, 2, 2, 60)          0         \n",
      "_________________________________________________________________\n",
      "dropout_2 (Dropout)          (None, 2, 2, 60)          0         \n",
      "_________________________________________________________________\n",
      "flatten_2 (Flatten)          (None, 240)               0         \n",
      "_________________________________________________________________\n",
      "dense_7 (Dense)              (None, 100)               24100     \n",
      "_________________________________________________________________\n",
      "dropout_3 (Dropout)          (None, 100)               0         \n",
      "_________________________________________________________________\n",
      "dense_8 (Dense)              (None, 10)                1010      \n",
      "=================================================================\n",
      "Total params: 42,530\n",
      "Trainable params: 42,530\n",
      "Non-trainable params: 0\n",
      "_________________________________________________________________\n"
     ]
    }
   ],
   "source": [
    "model.summary()"
   ]
  },
  {
   "cell_type": "code",
   "execution_count": 20,
   "metadata": {},
   "outputs": [],
   "source": [
    "model.compile(optimizer='adam', loss='categorical_crossentropy', metrics=['accuracy'])"
   ]
  },
  {
   "cell_type": "code",
   "execution_count": 21,
   "metadata": {
    "scrolled": true
   },
   "outputs": [
    {
     "name": "stdout",
     "output_type": "stream",
     "text": [
      "Train on 51000 samples, validate on 9000 samples\n",
      "Epoch 1/20\n",
      "51000/51000 [==============================] - 47s 920us/step - loss: 0.2931 - acc: 0.9069 - val_loss: 0.0962 - val_acc: 0.9718\n",
      "Epoch 2/20\n",
      "51000/51000 [==============================] - 45s 890us/step - loss: 0.0965 - acc: 0.9701 - val_loss: 0.0732 - val_acc: 0.9774\n",
      "Epoch 3/20\n",
      "51000/51000 [==============================] - 46s 903us/step - loss: 0.0748 - acc: 0.9770 - val_loss: 0.0659 - val_acc: 0.9788\n",
      "Epoch 4/20\n",
      "51000/51000 [==============================] - 46s 893us/step - loss: 0.0602 - acc: 0.9806 - val_loss: 0.0418 - val_acc: 0.9872\n",
      "Epoch 5/20\n",
      "51000/51000 [==============================] - 46s 895us/step - loss: 0.0537 - acc: 0.9838 - val_loss: 0.0420 - val_acc: 0.9880\n",
      "Epoch 6/20\n",
      "51000/51000 [==============================] - 45s 890us/step - loss: 0.0480 - acc: 0.9852 - val_loss: 0.0429 - val_acc: 0.9879\n",
      "Epoch 7/20\n",
      "51000/51000 [==============================] - 46s 900us/step - loss: 0.0451 - acc: 0.9859 - val_loss: 0.0405 - val_acc: 0.9872\n",
      "Epoch 8/20\n",
      "51000/51000 [==============================] - 46s 901us/step - loss: 0.0403 - acc: 0.9875 - val_loss: 0.0473 - val_acc: 0.9869\n",
      "Epoch 9/20\n",
      "51000/51000 [==============================] - 48s 943us/step - loss: 0.0381 - acc: 0.9880 - val_loss: 0.0369 - val_acc: 0.9878\n",
      "Epoch 10/20\n",
      "51000/51000 [==============================] - 45s 874us/step - loss: 0.0373 - acc: 0.9886 - val_loss: 0.0317 - val_acc: 0.9906\n",
      "Epoch 11/20\n",
      "51000/51000 [==============================] - 49s 959us/step - loss: 0.0334 - acc: 0.9897 - val_loss: 0.0386 - val_acc: 0.9893\n",
      "Epoch 12/20\n",
      "51000/51000 [==============================] - 47s 918us/step - loss: 0.0347 - acc: 0.9891 - val_loss: 0.0347 - val_acc: 0.9894\n",
      "Epoch 13/20\n",
      "51000/51000 [==============================] - 48s 942us/step - loss: 0.0321 - acc: 0.9898 - val_loss: 0.0368 - val_acc: 0.9898\n",
      "Epoch 14/20\n",
      "51000/51000 [==============================] - 45s 875us/step - loss: 0.0299 - acc: 0.9901 - val_loss: 0.0314 - val_acc: 0.9908\n",
      "Epoch 15/20\n",
      "51000/51000 [==============================] - 42s 820us/step - loss: 0.0310 - acc: 0.9899 - val_loss: 0.0321 - val_acc: 0.9896\n",
      "Epoch 16/20\n",
      "51000/51000 [==============================] - 44s 871us/step - loss: 0.0277 - acc: 0.9914 - val_loss: 0.0312 - val_acc: 0.9909\n",
      "Epoch 17/20\n",
      "51000/51000 [==============================] - 45s 886us/step - loss: 0.0287 - acc: 0.9909 - val_loss: 0.0335 - val_acc: 0.9909\n",
      "Epoch 18/20\n",
      "51000/51000 [==============================] - 47s 917us/step - loss: 0.0266 - acc: 0.9912 - val_loss: 0.0347 - val_acc: 0.9900\n",
      "Epoch 19/20\n",
      "51000/51000 [==============================] - 45s 884us/step - loss: 0.0261 - acc: 0.9915 - val_loss: 0.0323 - val_acc: 0.9904\n",
      "Epoch 20/20\n",
      "51000/51000 [==============================] - 44s 863us/step - loss: 0.0251 - acc: 0.9919 - val_loss: 0.0387 - val_acc: 0.9897\n"
     ]
    }
   ],
   "source": [
    "output = model.fit(X_train, y_train, epochs=20,  validation_data=(X_validate, y_validate))\n",
    "second_model = model"
   ]
  },
  {
   "cell_type": "code",
   "execution_count": 22,
   "metadata": {},
   "outputs": [],
   "source": [
    "predictions = second_model.predict(X_test)"
   ]
  },
  {
   "cell_type": "code",
   "execution_count": 23,
   "metadata": {},
   "outputs": [],
   "source": [
    "predictions = [np.argmax(x) for x in predictions]"
   ]
  },
  {
   "cell_type": "code",
   "execution_count": 24,
   "metadata": {},
   "outputs": [
    {
     "name": "stdout",
     "output_type": "stream",
     "text": [
      "10000/10000 [==============================] - 3s 327us/step\n"
     ]
    },
    {
     "data": {
      "text/plain": [
       "[0.023139943968826265, 0.9944]"
      ]
     },
     "execution_count": 24,
     "metadata": {},
     "output_type": "execute_result"
    }
   ],
   "source": [
    "second_model.evaluate(X_test, y_test)"
   ]
  }
 ],
 "metadata": {
  "kernelspec": {
   "display_name": "Python 3",
   "language": "python",
   "name": "python3"
  },
  "language_info": {
   "codemirror_mode": {
    "name": "ipython",
    "version": 3
   },
   "file_extension": ".py",
   "mimetype": "text/x-python",
   "name": "python",
   "nbconvert_exporter": "python",
   "pygments_lexer": "ipython3",
   "version": "3.7.1"
  }
 },
 "nbformat": 4,
 "nbformat_minor": 2
}
