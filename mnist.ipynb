{
 "cells": [
  {
   "cell_type": "markdown",
   "metadata": {},
   "source": [
    "First import the libraries needed in this notebook."
   ]
  },
  {
   "cell_type": "code",
   "execution_count": 167,
   "metadata": {},
   "outputs": [],
   "source": [
    "import numpy as np\n",
    "import pandas as pd\n",
    "\n",
    "#import tensorflow as tf\n",
    "import tensorflow_datasets as tfds\n",
    "\n",
    "from sklearn.model_selection import train_test_split\n",
    "from sklearn.metrics import accuracy_score\n",
    "import matplotlib.pyplot as plt\n",
    "from matplotlib.ticker import MaxNLocator, MultipleLocator, LinearLocator, FixedLocator\n",
    "import seaborn as sns\n",
    "\n",
    "from keras.models import Sequential\n",
    "from keras.layers import Dense, Conv2D, Flatten, MaxPooling2D, Dropout\n",
    "from keras.utils.np_utils import to_categorical\n",
    "\n",
    "from random import randrange"
   ]
  },
  {
   "cell_type": "markdown",
   "metadata": {},
   "source": [
    "The MNIST data can easily be obtained with the `tensorflow_datasets` library. In the cell below, if `download_data = True`, then tensorflow will download the MNIST data and store it in the directory `./data`. Otherwise, it will look for the data in the `./data` directory. \n",
    "\n",
    "The cell below loads the MNIST data into the variables `data` and `info`."
   ]
  },
  {
   "cell_type": "code",
   "execution_count": 6,
   "metadata": {},
   "outputs": [],
   "source": [
    "download_data = False\n",
    "\n",
    "if download_data:\n",
    "    \n",
    "    data, info = tfds.load('mnist', with_info=True, data_dir='./data')\n",
    "\n",
    "else:\n",
    "        \n",
    "    data, info = tfds.load('mnist', with_info=True, download=False, data_dir='./data')"
   ]
  },
  {
   "cell_type": "markdown",
   "metadata": {},
   "source": [
    "Extract the training data and test data."
   ]
  },
  {
   "cell_type": "code",
   "execution_count": 20,
   "metadata": {},
   "outputs": [],
   "source": [
    "train_data = tfds.as_numpy(data['train'])\n",
    "test_data = tfds.as_numpy(data['test'])"
   ]
  },
  {
   "cell_type": "markdown",
   "metadata": {},
   "source": [
    "The digit images and labels are somewhat hidden in train_data and test_data. In order to obtain the data to work with, the function `extract_data` is defined below. The function:\n",
    "* appends each digit image to an array X\n",
    "* appends each digit label to the array y\n",
    "* normalises each digit image by dividing by 255\n",
    "* one-hot encodes the digit labels y. This means that if the digit was 1 then it is turned into the array [0, 1, {8 more zeros}]"
   ]
  },
  {
   "cell_type": "code",
   "execution_count": 18,
   "metadata": {},
   "outputs": [],
   "source": [
    "def extract_data(generator):\n",
    "    '''This functgion returns two numpy arrays X and y. Each element of X contains a \n",
    "       normalised 28x28 numpy array of a digit. The corresponding element in y is the \n",
    "       one-hot encoded digit label.'''\n",
    "    \n",
    "    X = []\n",
    "    y = []\n",
    "\n",
    "    for digit in generator:\n",
    "    \n",
    "        X.append(digit['image'])\n",
    "        y.append(digit['label'])       \n",
    "\n",
    "    X = np.array(X)/255\n",
    "    y = np.array(y)\n",
    "\n",
    "    y = to_categorical(y)\n",
    "    \n",
    "    return X, y"
   ]
  },
  {
   "cell_type": "code",
   "execution_count": 21,
   "metadata": {},
   "outputs": [],
   "source": [
    "# NB: Since train_data and test_data are generators, this cell can only be run once.\n",
    "# If this cell needs to be rerun, then the cell defining the generators train_data and\n",
    "# test_data needs to be rerun again first. \n",
    "X, y = extract_data(train_data)\n",
    "X_test, y_test = extract_data(test_data)"
   ]
  },
  {
   "cell_type": "markdown",
   "metadata": {},
   "source": [
    "Of the digits in the training data, 15% of them will be declared as a validation set in order to probe the accuracy of the models that will be built."
   ]
  },
  {
   "cell_type": "code",
   "execution_count": 10,
   "metadata": {},
   "outputs": [],
   "source": [
    "X_train, X_validate, y_train, y_validate = train_test_split(X, y, test_size=0.15, random_state=0)"
   ]
  },
  {
   "cell_type": "markdown",
   "metadata": {},
   "source": [
    "In order to check that the data has been loaded correctly, a sample element of the training data can be displayed."
   ]
  },
  {
   "cell_type": "code",
   "execution_count": 11,
   "metadata": {},
   "outputs": [
    {
     "data": {
      "image/png": "[encoded data removed]",
      "text/plain": [
       "<Figure size 432x288 with 1 Axes>"
      ]
     },
     "metadata": {
      "needs_background": "light"
     },
     "output_type": "display_data"
    },
    {
     "name": "stdout",
     "output_type": "stream",
     "text": [
      "[0. 0. 0. 0. 0. 0. 0. 0. 0. 1.]\n"
     ]
    }
   ],
   "source": [
    "i = 10\n",
    "plt.gray()\n",
    "plt.imshow(X_train[i].reshape(28,28), interpolation='none')\n",
    "plt.show()\n",
    "\n",
    "print(y_train[i])\n"
   ]
  },
  {
   "cell_type": "markdown",
   "metadata": {},
   "source": [
    "Now that the digit images and labels have been specified, it is possible to begin constructing the neural networks that can model this data."
   ]
  },
  {
   "cell_type": "markdown",
   "metadata": {},
   "source": [
    "## The First Model"
   ]
  },
  {
   "cell_type": "markdown",
   "metadata": {},
   "source": [
    "The first model that will be built will have:\n",
    "* An initial *flat* layer of 784 neurons corresponding to each of the pixels in the 28x28 image.\n",
    "* 5 hidden layers of 30 fully connected neurons each. These neurons will have a ReLU activation.\n",
    "* A final layer of 10 neurons corresponding to the 10 digits. The neurons in this final layer will have a softmax activation. \n",
    "\n",
    "The model can be easily constucted using Keras as shown below. "
   ]
  },
  {
   "cell_type": "code",
   "execution_count": 35,
   "metadata": {},
   "outputs": [],
   "source": [
    "model = Sequential()\n",
    "\n",
    "model.add(Flatten(input_shape=X_train[0].shape))\n",
    "model.add(Dense(30, activation='relu'))\n",
    "model.add(Dense(30, activation='relu'))\n",
    "model.add(Dense(30, activation='relu'))\n",
    "model.add(Dense(30, activation='relu'))\n",
    "model.add(Dense(30, activation='relu'))\n",
    "model.add(Dense(10, activation='softmax'))"
   ]
  },
  {
   "cell_type": "markdown",
   "metadata": {},
   "source": [
    "A summary of the model can be made."
   ]
  },
  {
   "cell_type": "code",
   "execution_count": 36,
   "metadata": {},
   "outputs": [
    {
     "name": "stdout",
     "output_type": "stream",
     "text": [
      "_________________________________________________________________\n",
      "Layer (type)                 Output Shape              Param #   \n",
      "=================================================================\n",
      "flatten_2 (Flatten)          (None, 784)               0         \n",
      "_________________________________________________________________\n",
      "dense_7 (Dense)              (None, 30)                23550     \n",
      "_________________________________________________________________\n",
      "dense_8 (Dense)              (None, 30)                930       \n",
      "_________________________________________________________________\n",
      "dense_9 (Dense)              (None, 30)                930       \n",
      "_________________________________________________________________\n",
      "dense_10 (Dense)             (None, 30)                930       \n",
      "_________________________________________________________________\n",
      "dense_11 (Dense)             (None, 30)                930       \n",
      "_________________________________________________________________\n",
      "dense_12 (Dense)             (None, 10)                310       \n",
      "=================================================================\n",
      "Total params: 27,580\n",
      "Trainable params: 27,580\n",
      "Non-trainable params: 0\n",
      "_________________________________________________________________\n"
     ]
    }
   ],
   "source": [
    "model.summary()"
   ]
  },
  {
   "cell_type": "markdown",
   "metadata": {},
   "source": [
    "The model will have:\n",
    "* The adam optimizer\n",
    "* Categorical cross entropy as a loss function to guide training\n",
    "* Accuracy as a metric"
   ]
  },
  {
   "cell_type": "code",
   "execution_count": 37,
   "metadata": {},
   "outputs": [],
   "source": [
    "model.compile(optimizer='adam', loss='categorical_crossentropy', metrics=['accuracy'])"
   ]
  },
  {
   "cell_type": "markdown",
   "metadata": {},
   "source": [
    "The model will be trained for 20 epochs. Each epoch represents a single pass through the training data. "
   ]
  },
  {
   "cell_type": "code",
   "execution_count": 38,
   "metadata": {
    "scrolled": true
   },
   "outputs": [
    {
     "name": "stdout",
     "output_type": "stream",
     "text": [
      "Train on 51000 samples, validate on 9000 samples\n",
      "Epoch 1/20\n",
      "51000/51000 [==============================] - 5s 91us/step - loss: 0.4304 - acc: 0.8693 - val_loss: 0.2234 - val_acc: 0.9328\n",
      "Epoch 2/20\n",
      "51000/51000 [==============================] - 4s 79us/step - loss: 0.1967 - acc: 0.9405 - val_loss: 0.1975 - val_acc: 0.9416\n",
      "Epoch 3/20\n",
      "51000/51000 [==============================] - 4s 79us/step - loss: 0.1552 - acc: 0.9529 - val_loss: 0.1547 - val_acc: 0.9542\n",
      "Epoch 4/20\n",
      "51000/51000 [==============================] - 4s 80us/step - loss: 0.1276 - acc: 0.9611 - val_loss: 0.1483 - val_acc: 0.9581\n",
      "Epoch 5/20\n",
      "51000/51000 [==============================] - 4s 81us/step - loss: 0.1124 - acc: 0.9654 - val_loss: 0.1352 - val_acc: 0.9614\n",
      "Epoch 6/20\n",
      "51000/51000 [==============================] - 5s 88us/step - loss: 0.1013 - acc: 0.9693 - val_loss: 0.1467 - val_acc: 0.9587\n",
      "Epoch 7/20\n",
      "51000/51000 [==============================] - 4s 73us/step - loss: 0.0909 - acc: 0.9721 - val_loss: 0.1381 - val_acc: 0.9598\n",
      "Epoch 8/20\n",
      "51000/51000 [==============================] - 4s 73us/step - loss: 0.0818 - acc: 0.9745 - val_loss: 0.1278 - val_acc: 0.9638\n",
      "Epoch 9/20\n",
      "51000/51000 [==============================] - 4s 73us/step - loss: 0.0746 - acc: 0.9761 - val_loss: 0.1262 - val_acc: 0.9659\n",
      "Epoch 10/20\n",
      "51000/51000 [==============================] - 4s 74us/step - loss: 0.0702 - acc: 0.9787 - val_loss: 0.1468 - val_acc: 0.9597\n",
      "Epoch 11/20\n",
      "51000/51000 [==============================] - 4s 73us/step - loss: 0.0662 - acc: 0.9787 - val_loss: 0.1347 - val_acc: 0.9620\n",
      "Epoch 12/20\n",
      "51000/51000 [==============================] - 4s 78us/step - loss: 0.0609 - acc: 0.9804 - val_loss: 0.1266 - val_acc: 0.9657\n",
      "Epoch 13/20\n",
      "51000/51000 [==============================] - 4s 85us/step - loss: 0.0593 - acc: 0.9812 - val_loss: 0.1279 - val_acc: 0.9658\n",
      "Epoch 14/20\n",
      "51000/51000 [==============================] - 4s 88us/step - loss: 0.0528 - acc: 0.9830 - val_loss: 0.1567 - val_acc: 0.9606\n",
      "Epoch 15/20\n",
      "51000/51000 [==============================] - 5s 90us/step - loss: 0.0511 - acc: 0.9835 - val_loss: 0.1400 - val_acc: 0.9628\n",
      "Epoch 16/20\n",
      "51000/51000 [==============================] - 4s 84us/step - loss: 0.0456 - acc: 0.9851 - val_loss: 0.1522 - val_acc: 0.9641\n",
      "Epoch 17/20\n",
      "51000/51000 [==============================] - 5s 97us/step - loss: 0.0459 - acc: 0.9852 - val_loss: 0.1452 - val_acc: 0.9644\n",
      "Epoch 18/20\n",
      "51000/51000 [==============================] - 5s 89us/step - loss: 0.0453 - acc: 0.9847 - val_loss: 0.1399 - val_acc: 0.9674\n",
      "Epoch 19/20\n",
      "51000/51000 [==============================] - 4s 74us/step - loss: 0.0413 - acc: 0.9867 - val_loss: 0.1410 - val_acc: 0.9683\n",
      "Epoch 20/20\n",
      "51000/51000 [==============================] - 4s 82us/step - loss: 0.0379 - acc: 0.9879 - val_loss: 0.1609 - val_acc: 0.9633\n"
     ]
    }
   ],
   "source": [
    "first_model_output = model.fit(X_train, y_train, epochs=20, validation_data=(X_validate, y_validate))\n",
    "first_model = model"
   ]
  },
  {
   "cell_type": "markdown",
   "metadata": {},
   "source": [
    "For epoch, both the loss and accuracy for the training data and validation data can be extracted into a Pandas dataframe."
   ]
  },
  {
   "cell_type": "code",
   "execution_count": 39,
   "metadata": {},
   "outputs": [],
   "source": [
    "metrics = pd.DataFrame(first_model_output.history)\n",
    "\n",
    "# The index of the metrics dataframe is zero indexed to the epoch number. As such, add one\n",
    "# to the index so that Epoch 0 becomes Epoch 1.\n",
    "metrics.index = metrics.index+1"
   ]
  },
  {
   "cell_type": "markdown",
   "metadata": {},
   "source": [
    "This information can be plotted."
   ]
  },
  {
   "cell_type": "code",
   "execution_count": 84,
   "metadata": {
    "scrolled": false
   },
   "outputs": [
    {
     "data": {
      "text/plain": [
       "<matplotlib.legend.Legend at 0x7fdddc58a278>"
      ]
     },
     "execution_count": 84,
     "metadata": {},
     "output_type": "execute_result"
    },
    {
     "data": {
      "image/png": "[encoded data removed]",
      "text/plain": [
       "<Figure size 1152x432 with 2 Axes>"
      ]
     },
     "metadata": {
      "needs_background": "light"
     },
     "output_type": "display_data"
    }
   ],
   "source": [
    "fig, ax = plt.subplots(1, 2, figsize=(16, 6))\n",
    "\n",
    "sns.lineplot(data=metrics, ax=ax[0], x = metrics.index, y='acc', label='Training Data')\n",
    "sns.lineplot(data=metrics, ax=ax[0], x = metrics.index, y='val_acc', label='Validation Data')\n",
    "\n",
    "sns.lineplot(data=metrics, ax=ax[1], x = metrics.index, y='loss', label='Training Data')\n",
    "sns.lineplot(data=metrics, ax=ax[1], x = metrics.index, y='val_loss', label='Validation Data')\n",
    "\n",
    "fig.suptitle('Accuracy and Loss Across 20 Epochs', fontsize=20)\n",
    "\n",
    "ax[0].set_title('Accuracy')\n",
    "ax[0].set_xlabel('Epoch')\n",
    "ax[0].set_ylabel('Accuracy')\n",
    "ax[0].xaxis.set_major_locator(MultipleLocator(1))\n",
    "ax[0].legend()\n",
    "\n",
    "ax[1].set_title('Loss')\n",
    "ax[1].set_xlabel('Epoch')\n",
    "ax[1].set_ylabel('Loss')\n",
    "ax[1].xaxis.set_major_locator(MultipleLocator(1))\n",
    "ax[1].legend()\n"
   ]
  },
  {
   "cell_type": "markdown",
   "metadata": {},
   "source": [
    "As can be seen in the plot on the top left, the accuracy of the training data quickly increases in the first three epochs, followed by a gradual, but non-stop climb towards 100%. This is despite the accuracy on the validation data plateauing  at around 96% after approximately the 6th epoch. This shows that after approximately 6 epochs, the model is  overfitted. \n",
    "\n",
    "Something similar happens to the loss. As can be seen in the plot on the top right, the loss for the training data approaches zero as the epochs increase. However, the loss for the validation data plateaus at around 0.15 after approximately 6 epochs. This is further evidence that the model is overfitting after 6 epochs."
   ]
  },
  {
   "cell_type": "markdown",
   "metadata": {},
   "source": [
    "An estimate of the accuracy of the model can be made by taking the mean and standard deviation of the accuracy on the validation data for the epochs 6 through to 20. "
   ]
  },
  {
   "cell_type": "code",
   "execution_count": 98,
   "metadata": {},
   "outputs": [
    {
     "name": "stdout",
     "output_type": "stream",
     "text": [
      "Accuracy on validation data after overfitting is 0.963 ± 0.003\n"
     ]
    }
   ],
   "source": [
    "mean = metrics['val_acc'][5:20].mean()\n",
    "std = metrics['val_acc'][5:20].std()\n",
    "\n",
    "print('Accuracy on validation data after overfitting is {:.3f} \\u00B1 {:.3f}'.format(mean, std))"
   ]
  },
  {
   "cell_type": "markdown",
   "metadata": {},
   "source": [
    "To determine the accuracy of the model on the test data, predictions can be made."
   ]
  },
  {
   "cell_type": "code",
   "execution_count": 106,
   "metadata": {},
   "outputs": [],
   "source": [
    "predictions = first_model.predict(X_test)"
   ]
  },
  {
   "cell_type": "markdown",
   "metadata": {},
   "source": [
    "The digit that will be predicted is simply the argument of the array that is the maximum."
   ]
  },
  {
   "cell_type": "code",
   "execution_count": 107,
   "metadata": {},
   "outputs": [],
   "source": [
    "predictions = [np.argmax(x) for x in predictions]"
   ]
  },
  {
   "cell_type": "markdown",
   "metadata": {},
   "source": [
    "Create the list `y_test_digits` that reverses the one-hot coding."
   ]
  },
  {
   "cell_type": "code",
   "execution_count": 111,
   "metadata": {},
   "outputs": [],
   "source": [
    "y_test_digits = [np.argmax(x) for x in y_test]"
   ]
  },
  {
   "cell_type": "markdown",
   "metadata": {},
   "source": [
    "Use the `accuracy_score` function from `sklearn.metrics` to determine the accuracy."
   ]
  },
  {
   "cell_type": "code",
   "execution_count": 110,
   "metadata": {},
   "outputs": [
    {
     "data": {
      "text/plain": [
       "0.9667"
      ]
     },
     "execution_count": 110,
     "metadata": {},
     "output_type": "execute_result"
    }
   ],
   "source": [
    "accuracy_score(predictions, y_test_digits)"
   ]
  },
  {
   "cell_type": "markdown",
   "metadata": {},
   "source": [
    "More simply, Keras allows the direct evaluation of the model with the following simple command. However, this command obscures the actual predictions of the model. The first number in the array below is the loss and the second element is the accuracy, which is the same as determined before."
   ]
  },
  {
   "cell_type": "code",
   "execution_count": 112,
   "metadata": {},
   "outputs": [
    {
     "name": "stdout",
     "output_type": "stream",
     "text": [
      "10000/10000 [==============================] - 0s 37us/step\n"
     ]
    },
    {
     "data": {
      "text/plain": [
       "[0.14456992904888466, 0.9667]"
      ]
     },
     "execution_count": 112,
     "metadata": {},
     "output_type": "execute_result"
    }
   ],
   "source": [
    "first_model.evaluate(X_test, y_test)"
   ]
  },
  {
   "cell_type": "markdown",
   "metadata": {},
   "source": [
    "In an effort to show what learning the model has made, a display of digits versus their predicted labels is shown below for a random selection of the test data."
   ]
  },
  {
   "cell_type": "code",
   "execution_count": 170,
   "metadata": {},
   "outputs": [
    {
     "data": {
      "image/png": "[encoded data removed]",
      "text/plain": [
       "<Figure size 432x432 with 9 Axes>"
      ]
     },
     "metadata": {
      "needs_background": "light"
     },
     "output_type": "display_data"
    }
   ],
   "source": [
    "# Obtain a random selection of 9 digit images \n",
    "random_indices = [randrange(X_test.shape[0]) for x in range(9)]\n",
    "random_indices_copy = random_indices # A copy has been made because pop will be used later\n",
    "X_images = X_test[random_indices]\n",
    "\n",
    "# Determine the predictions of these 9 images\n",
    "predictions = first_model.predict(X_images)\n",
    "predictions = [np.argmax(x) for x in predictions]\n",
    "\n",
    "# Create the figure\n",
    "fig, ax = plt.subplots(3, 3, figsize=(6,6))\n",
    "fig.suptitle('Predictions From Neural Network', fontsize=20)\n",
    "\n",
    "for i in [0,1,2]:           # loop across the three rows\n",
    "    for j in [0,1,2]:       # loop across the three columns\n",
    "        \n",
    "        # Obtain the first or next random index\n",
    "        random_index = random_indices_copy.pop(0)\n",
    "        \n",
    "        # Obtain the prediction for this digit\n",
    "        prediction = predictions.pop(0)\n",
    "        \n",
    "        # Plot the digit and show the prediction\n",
    "        ax[i,j].imshow(X_test[random_index].reshape(28,28), interpolation='none')\n",
    "        ax[i,j].set_axis_off()\n",
    "        ax[i,j].set_title(prediction, fontsize=16)\n",
    "    "
   ]
  },
  {
   "cell_type": "markdown",
   "metadata": {},
   "source": [
    "## CNN Model"
   ]
  },
  {
   "cell_type": "code",
   "execution_count": null,
   "metadata": {},
   "outputs": [],
   "source": []
  },
  {
   "cell_type": "code",
   "execution_count": 93,
   "metadata": {},
   "outputs": [
    {
     "name": "stderr",
     "output_type": "stream",
     "text": [
      "W0716 11:03:35.981369 140593074353920 deprecation.py:506] From /home/david/anaconda3/lib/python3.7/site-packages/keras/backend/tensorflow_backend.py:3445: calling dropout (from tensorflow.python.ops.nn_ops) with keep_prob is deprecated and will be removed in a future version.\n",
      "Instructions for updating:\n",
      "Please use `rate` instead of `keep_prob`. Rate should be set to `rate = 1 - keep_prob`.\n"
     ]
    }
   ],
   "source": [
    "#create model\n",
    "model = Sequential()\n",
    "\n",
    "#add model layers\n",
    "model.add(Conv2D(20, kernel_size=(5,5), activation='relu', input_shape=(28,28,1)))\n",
    "model.add(MaxPooling2D(pool_size=(2,2)))\n",
    "#model.add(Dropout(0.2))\n",
    "\n",
    "model.add(Conv2D(40, kernel_size=(3,3), activation='relu'))\n",
    "model.add(MaxPooling2D(pool_size=(2,2)))\n",
    "model.add(Dropout(0.2))\n",
    "\n",
    "model.add(Conv2D(60, kernel_size=(2,2), activation='relu'))\n",
    "model.add(MaxPooling2D(pool_size=(2,2)))\n",
    "model.add(Dropout(0.2))\n",
    "\n",
    "model.add(Flatten())\n",
    "model.add(Dense(100, activation='relu'))\n",
    "model.add(Dropout(0.2))\n",
    "\n",
    "model.add(Dense(10, activation='softmax'))"
   ]
  },
  {
   "cell_type": "code",
   "execution_count": 94,
   "metadata": {},
   "outputs": [
    {
     "name": "stdout",
     "output_type": "stream",
     "text": [
      "_________________________________________________________________\n",
      "Layer (type)                 Output Shape              Param #   \n",
      "=================================================================\n",
      "conv2d_1 (Conv2D)            (None, 24, 24, 20)        520       \n",
      "_________________________________________________________________\n",
      "max_pooling2d_1 (MaxPooling2 (None, 12, 12, 20)        0         \n",
      "_________________________________________________________________\n",
      "conv2d_2 (Conv2D)            (None, 10, 10, 40)        7240      \n",
      "_________________________________________________________________\n",
      "max_pooling2d_2 (MaxPooling2 (None, 5, 5, 40)          0         \n",
      "_________________________________________________________________\n",
      "dropout_1 (Dropout)          (None, 5, 5, 40)          0         \n",
      "_________________________________________________________________\n",
      "conv2d_3 (Conv2D)            (None, 4, 4, 60)          9660      \n",
      "_________________________________________________________________\n",
      "max_pooling2d_3 (MaxPooling2 (None, 2, 2, 60)          0         \n",
      "_________________________________________________________________\n",
      "dropout_2 (Dropout)          (None, 2, 2, 60)          0         \n",
      "_________________________________________________________________\n",
      "flatten_3 (Flatten)          (None, 240)               0         \n",
      "_________________________________________________________________\n",
      "dense_13 (Dense)             (None, 100)               24100     \n",
      "_________________________________________________________________\n",
      "dropout_3 (Dropout)          (None, 100)               0         \n",
      "_________________________________________________________________\n",
      "dense_14 (Dense)             (None, 10)                1010      \n",
      "=================================================================\n",
      "Total params: 42,530\n",
      "Trainable params: 42,530\n",
      "Non-trainable params: 0\n",
      "_________________________________________________________________\n"
     ]
    }
   ],
   "source": [
    "model.summary()"
   ]
  },
  {
   "cell_type": "code",
   "execution_count": 95,
   "metadata": {},
   "outputs": [],
   "source": [
    "model.compile(optimizer='adam', loss='categorical_crossentropy', metrics=['accuracy'])"
   ]
  },
  {
   "cell_type": "code",
   "execution_count": 96,
   "metadata": {
    "scrolled": true
   },
   "outputs": [
    {
     "name": "stdout",
     "output_type": "stream",
     "text": [
      "Train on 51000 samples, validate on 9000 samples\n",
      "Epoch 1/20\n",
      "51000/51000 [==============================] - 44s 863us/step - loss: 0.2936 - acc: 0.9079 - val_loss: 0.0722 - val_acc: 0.9783\n",
      "Epoch 2/20\n",
      "51000/51000 [==============================] - 43s 837us/step - loss: 0.0988 - acc: 0.9699 - val_loss: 0.0452 - val_acc: 0.9850\n",
      "Epoch 3/20\n",
      "51000/51000 [==============================] - 43s 835us/step - loss: 0.0735 - acc: 0.9774 - val_loss: 0.0502 - val_acc: 0.9846\n",
      "Epoch 4/20\n",
      "51000/51000 [==============================] - 43s 841us/step - loss: 0.0621 - acc: 0.9809 - val_loss: 0.0355 - val_acc: 0.9892\n",
      "Epoch 5/20\n",
      "51000/51000 [==============================] - 43s 844us/step - loss: 0.0522 - acc: 0.9836 - val_loss: 0.0311 - val_acc: 0.9900\n",
      "Epoch 6/20\n",
      "51000/51000 [==============================] - 43s 847us/step - loss: 0.0490 - acc: 0.9846 - val_loss: 0.0369 - val_acc: 0.9872\n",
      "Epoch 7/20\n",
      "51000/51000 [==============================] - 45s 879us/step - loss: 0.0448 - acc: 0.9860 - val_loss: 0.0331 - val_acc: 0.9900\n",
      "Epoch 8/20\n",
      "51000/51000 [==============================] - 44s 867us/step - loss: 0.0422 - acc: 0.9868 - val_loss: 0.0328 - val_acc: 0.9894\n",
      "Epoch 9/20\n",
      "51000/51000 [==============================] - 45s 874us/step - loss: 0.0383 - acc: 0.9880 - val_loss: 0.0296 - val_acc: 0.9912\n",
      "Epoch 10/20\n",
      "51000/51000 [==============================] - 45s 875us/step - loss: 0.0366 - acc: 0.9884 - val_loss: 0.0307 - val_acc: 0.9911\n",
      "Epoch 11/20\n",
      "51000/51000 [==============================] - 44s 872us/step - loss: 0.0371 - acc: 0.9882 - val_loss: 0.0285 - val_acc: 0.9920\n",
      "Epoch 12/20\n",
      "51000/51000 [==============================] - 45s 884us/step - loss: 0.0338 - acc: 0.9894 - val_loss: 0.0321 - val_acc: 0.9908\n",
      "Epoch 13/20\n",
      "51000/51000 [==============================] - 46s 897us/step - loss: 0.0319 - acc: 0.9899 - val_loss: 0.0315 - val_acc: 0.9920\n",
      "Epoch 14/20\n",
      "51000/51000 [==============================] - 41s 806us/step - loss: 0.0311 - acc: 0.9903 - val_loss: 0.0331 - val_acc: 0.9910\n",
      "Epoch 15/20\n",
      "51000/51000 [==============================] - 39s 772us/step - loss: 0.0308 - acc: 0.9899 - val_loss: 0.0270 - val_acc: 0.9926\n",
      "Epoch 16/20\n",
      "51000/51000 [==============================] - 42s 829us/step - loss: 0.0298 - acc: 0.9910 - val_loss: 0.0288 - val_acc: 0.9916\n",
      "Epoch 17/20\n",
      "51000/51000 [==============================] - 46s 902us/step - loss: 0.0263 - acc: 0.9917 - val_loss: 0.0318 - val_acc: 0.9919\n",
      "Epoch 18/20\n",
      "51000/51000 [==============================] - 46s 897us/step - loss: 0.0273 - acc: 0.9914 - val_loss: 0.0287 - val_acc: 0.9926\n",
      "Epoch 19/20\n",
      "51000/51000 [==============================] - 46s 904us/step - loss: 0.0261 - acc: 0.9918 - val_loss: 0.0313 - val_acc: 0.9913\n",
      "Epoch 20/20\n",
      "51000/51000 [==============================] - 45s 889us/step - loss: 0.0248 - acc: 0.9922 - val_loss: 0.0287 - val_acc: 0.9924\n"
     ]
    }
   ],
   "source": [
    "output = model.fit(X_train, y_train, epochs=20,  validation_data=(X_validate, y_validate))\n",
    "second_model = model"
   ]
  },
  {
   "cell_type": "code",
   "execution_count": 103,
   "metadata": {},
   "outputs": [],
   "source": [
    "predictions = second_model.predict(X_test)"
   ]
  },
  {
   "cell_type": "code",
   "execution_count": 104,
   "metadata": {},
   "outputs": [],
   "source": [
    "predictions = [np.argmax(x) for x in predictions]"
   ]
  },
  {
   "cell_type": "code",
   "execution_count": 102,
   "metadata": {},
   "outputs": [
    {
     "ename": "ValueError",
     "evalue": "Classification metrics can't handle a mix of multiclass and multilabel-indicator targets",
     "output_type": "error",
     "traceback": [
      "\u001b[0;31m---------------------------------------------------------------------------\u001b[0m",
      "\u001b[0;31mValueError\u001b[0m                                Traceback (most recent call last)",
      "\u001b[0;32m<ipython-input-102-b9060b2ed0db>\u001b[0m in \u001b[0;36m<module>\u001b[0;34m\u001b[0m\n\u001b[0;32m----> 1\u001b[0;31m \u001b[0maccuracy_score\u001b[0m\u001b[0;34m(\u001b[0m\u001b[0mpredictions\u001b[0m\u001b[0;34m,\u001b[0m \u001b[0my_test\u001b[0m\u001b[0;34m)\u001b[0m\u001b[0;34m\u001b[0m\u001b[0;34m\u001b[0m\u001b[0m\n\u001b[0m",
      "\u001b[0;32m~/anaconda3/lib/python3.7/site-packages/sklearn/metrics/classification.py\u001b[0m in \u001b[0;36maccuracy_score\u001b[0;34m(y_true, y_pred, normalize, sample_weight)\u001b[0m\n\u001b[1;32m    174\u001b[0m \u001b[0;34m\u001b[0m\u001b[0m\n\u001b[1;32m    175\u001b[0m     \u001b[0;31m# Compute accuracy for each possible representation\u001b[0m\u001b[0;34m\u001b[0m\u001b[0;34m\u001b[0m\u001b[0;34m\u001b[0m\u001b[0m\n\u001b[0;32m--> 176\u001b[0;31m     \u001b[0my_type\u001b[0m\u001b[0;34m,\u001b[0m \u001b[0my_true\u001b[0m\u001b[0;34m,\u001b[0m \u001b[0my_pred\u001b[0m \u001b[0;34m=\u001b[0m \u001b[0m_check_targets\u001b[0m\u001b[0;34m(\u001b[0m\u001b[0my_true\u001b[0m\u001b[0;34m,\u001b[0m \u001b[0my_pred\u001b[0m\u001b[0;34m)\u001b[0m\u001b[0;34m\u001b[0m\u001b[0;34m\u001b[0m\u001b[0m\n\u001b[0m\u001b[1;32m    177\u001b[0m     \u001b[0mcheck_consistent_length\u001b[0m\u001b[0;34m(\u001b[0m\u001b[0my_true\u001b[0m\u001b[0;34m,\u001b[0m \u001b[0my_pred\u001b[0m\u001b[0;34m,\u001b[0m \u001b[0msample_weight\u001b[0m\u001b[0;34m)\u001b[0m\u001b[0;34m\u001b[0m\u001b[0;34m\u001b[0m\u001b[0m\n\u001b[1;32m    178\u001b[0m     \u001b[0;32mif\u001b[0m \u001b[0my_type\u001b[0m\u001b[0;34m.\u001b[0m\u001b[0mstartswith\u001b[0m\u001b[0;34m(\u001b[0m\u001b[0;34m'multilabel'\u001b[0m\u001b[0;34m)\u001b[0m\u001b[0;34m:\u001b[0m\u001b[0;34m\u001b[0m\u001b[0;34m\u001b[0m\u001b[0m\n",
      "\u001b[0;32m~/anaconda3/lib/python3.7/site-packages/sklearn/metrics/classification.py\u001b[0m in \u001b[0;36m_check_targets\u001b[0;34m(y_true, y_pred)\u001b[0m\n\u001b[1;32m     79\u001b[0m     \u001b[0;32mif\u001b[0m \u001b[0mlen\u001b[0m\u001b[0;34m(\u001b[0m\u001b[0my_type\u001b[0m\u001b[0;34m)\u001b[0m \u001b[0;34m>\u001b[0m \u001b[0;36m1\u001b[0m\u001b[0;34m:\u001b[0m\u001b[0;34m\u001b[0m\u001b[0;34m\u001b[0m\u001b[0m\n\u001b[1;32m     80\u001b[0m         raise ValueError(\"Classification metrics can't handle a mix of {0} \"\n\u001b[0;32m---> 81\u001b[0;31m                          \"and {1} targets\".format(type_true, type_pred))\n\u001b[0m\u001b[1;32m     82\u001b[0m \u001b[0;34m\u001b[0m\u001b[0m\n\u001b[1;32m     83\u001b[0m     \u001b[0;31m# We can't have more than one value on y_type => The set is no more needed\u001b[0m\u001b[0;34m\u001b[0m\u001b[0;34m\u001b[0m\u001b[0;34m\u001b[0m\u001b[0m\n",
      "\u001b[0;31mValueError\u001b[0m: Classification metrics can't handle a mix of multiclass and multilabel-indicator targets"
     ]
    }
   ],
   "source": [
    "accuracy_score(predictions, y_test)"
   ]
  },
  {
   "cell_type": "code",
   "execution_count": 24,
   "metadata": {},
   "outputs": [
    {
     "name": "stdout",
     "output_type": "stream",
     "text": [
      "10000/10000 [==============================] - 3s 327us/step\n"
     ]
    },
    {
     "data": {
      "text/plain": [
       "[0.023139943968826265, 0.9944]"
      ]
     },
     "execution_count": 24,
     "metadata": {},
     "output_type": "execute_result"
    }
   ],
   "source": [
    "second_model.evaluate(X_test, y_test)"
   ]
  }
 ],
 "metadata": {
  "kernelspec": {
   "display_name": "Python 3",
   "language": "python",
   "name": "python3"
  },
  "language_info": {
   "codemirror_mode": {
    "name": "ipython",
    "version": 3
   },
   "file_extension": ".py",
   "mimetype": "text/x-python",
   "name": "python",
   "nbconvert_exporter": "python",
   "pygments_lexer": "ipython3",
   "version": "3.7.1"
  }
 },
 "nbformat": 4,
 "nbformat_minor": 2
}
