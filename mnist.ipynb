{
 "cells": [
  {
   "cell_type": "code",
   "execution_count": 209,
   "metadata": {},
   "outputs": [],
   "source": [
    "import numpy as np\n",
    "import pandas as pd\n",
    "import tensorflow as tf\n",
    "import tensorflow_datasets as tfds\n",
    "from sklearn.model_selection import train_test_split\n",
    "import matplotlib.pyplot as plt\n",
    "import seaborn as sns\n"
   ]
  },
  {
   "cell_type": "code",
   "execution_count": 2,
   "metadata": {},
   "outputs": [],
   "source": [
    "tf.enable_eager_execution()\n"
   ]
  },
  {
   "cell_type": "code",
   "execution_count": 106,
   "metadata": {},
   "outputs": [],
   "source": [
    "#data, info = tfds.load('mnist', with_info=True, data_dir='./data')\n",
    "data, info = tfds.load('mnist', with_info=True, download=False, data_dir='./data')\n"
   ]
  },
  {
   "cell_type": "code",
   "execution_count": 112,
   "metadata": {},
   "outputs": [],
   "source": [
    "train_data = tfds.as_numpy(data['train'])\n",
    "test_data = tfds.as_numpy(data['test'])"
   ]
  },
  {
   "cell_type": "code",
   "execution_count": 113,
   "metadata": {},
   "outputs": [],
   "source": [
    "X_train = []\n",
    "y_train = []\n",
    "\n",
    "for digit in train_data:\n",
    "    X_train.append(digit['image'])\n",
    "    y_train.append(digit['label'])       \n",
    "\n",
    "X_train = np.array(X_train)\n",
    "y_train = np.array(y_train)"
   ]
  },
  {
   "cell_type": "code",
   "execution_count": 114,
   "metadata": {},
   "outputs": [],
   "source": [
    "X_train, X_validate, y_train, y_validate = train_test_split(X_train, y_train, test_size=0.15, random_state=0)"
   ]
  },
  {
   "cell_type": "code",
   "execution_count": 115,
   "metadata": {},
   "outputs": [
    {
     "data": {
      "text/plain": [
       "51000"
      ]
     },
     "execution_count": 115,
     "metadata": {},
     "output_type": "execute_result"
    }
   ],
   "source": [
    "len(y_train)"
   ]
  },
  {
   "cell_type": "code",
   "execution_count": 116,
   "metadata": {},
   "outputs": [
    {
     "data": {
      "image/png": "[encoded data removed]",
      "text/plain": [
       "<Figure size 432x288 with 1 Axes>"
      ]
     },
     "metadata": {
      "needs_background": "light"
     },
     "output_type": "display_data"
    },
    {
     "name": "stdout",
     "output_type": "stream",
     "text": [
      "8\n"
     ]
    }
   ],
   "source": [
    "i = 10\n",
    "plt.gray()\n",
    "plt.imshow(X_train[i].reshape(28,28), interpolation='none')\n",
    "plt.show()\n",
    "\n",
    "print(y_train[i])\n"
   ]
  },
  {
   "cell_type": "code",
   "execution_count": 183,
   "metadata": {},
   "outputs": [],
   "source": [
    "model = tf.keras.models.Sequential([\n",
    "  tf.keras.layers.Flatten(input_shape=(28, 28, 1)),\n",
    "  tf.keras.layers.Dense(30, activation=tf.nn.relu),\n",
    "  tf.keras.layers.Dense(30, activation=tf.nn.relu),\n",
    "  tf.keras.layers.Dense(30, activation=tf.nn.relu),\n",
    "  tf.keras.layers.Dense(30, activation=tf.nn.relu),\n",
    "  tf.keras.layers.Dense(30, activation=tf.nn.relu),  \n",
    "  tf.keras.layers.Dense(10, activation=tf.nn.softmax)\n",
    "])\n",
    "\n",
    "model.compile(optimizer='adam',\n",
    "              loss='sparse_categorical_crossentropy',\n",
    "              metrics=['accuracy'])\n"
   ]
  },
  {
   "cell_type": "code",
   "execution_count": 184,
   "metadata": {},
   "outputs": [
    {
     "name": "stdout",
     "output_type": "stream",
     "text": [
      "Train on 51000 samples, validate on 9000 samples\n",
      "Epoch 1/20\n",
      "51000/51000 [==============================] - 8s 155us/sample - loss: 0.8409 - acc: 0.8032 - val_loss: 0.3403 - val_acc: 0.9060\n",
      "Epoch 2/20\n",
      "51000/51000 [==============================] - 6s 120us/sample - loss: 0.2841 - acc: 0.9206 - val_loss: 0.2373 - val_acc: 0.9304\n",
      "Epoch 3/20\n",
      "51000/51000 [==============================] - 6s 126us/sample - loss: 0.2234 - acc: 0.9364 - val_loss: 0.2084 - val_acc: 0.9418\n",
      "Epoch 4/20\n",
      "51000/51000 [==============================] - 7s 129us/sample - loss: 0.1940 - acc: 0.9439 - val_loss: 0.1883 - val_acc: 0.9471\n",
      "Epoch 5/20\n",
      "51000/51000 [==============================] - 7s 137us/sample - loss: 0.1718 - acc: 0.9500 - val_loss: 0.2439 - val_acc: 0.9326\n",
      "Epoch 6/20\n",
      "51000/51000 [==============================] - 6s 119us/sample - loss: 0.1560 - acc: 0.9551 - val_loss: 0.1833 - val_acc: 0.9481\n",
      "Epoch 7/20\n",
      "51000/51000 [==============================] - 5s 108us/sample - loss: 0.1418 - acc: 0.9583 - val_loss: 0.1768 - val_acc: 0.9502\n",
      "Epoch 8/20\n",
      "51000/51000 [==============================] - 8s 153us/sample - loss: 0.1266 - acc: 0.9630 - val_loss: 0.2023 - val_acc: 0.9412\n",
      "Epoch 9/20\n",
      "51000/51000 [==============================] - 7s 130us/sample - loss: 0.1195 - acc: 0.9650 - val_loss: 0.1561 - val_acc: 0.9579\n",
      "Epoch 10/20\n",
      "51000/51000 [==============================] - 7s 129us/sample - loss: 0.1121 - acc: 0.9669 - val_loss: 0.1626 - val_acc: 0.9564\n",
      "Epoch 11/20\n",
      "51000/51000 [==============================] - 6s 122us/sample - loss: 0.1056 - acc: 0.9694 - val_loss: 0.1610 - val_acc: 0.9582\n",
      "Epoch 12/20\n",
      "51000/51000 [==============================] - 6s 123us/sample - loss: 0.0975 - acc: 0.9721 - val_loss: 0.1585 - val_acc: 0.9598\n",
      "Epoch 13/20\n",
      "51000/51000 [==============================] - 6s 122us/sample - loss: 0.0945 - acc: 0.9726 - val_loss: 0.1604 - val_acc: 0.9578\n",
      "Epoch 14/20\n",
      "51000/51000 [==============================] - 6s 122us/sample - loss: 0.0895 - acc: 0.9735 - val_loss: 0.1598 - val_acc: 0.9619\n",
      "Epoch 15/20\n",
      "51000/51000 [==============================] - 6s 126us/sample - loss: 0.0867 - acc: 0.9741 - val_loss: 0.1491 - val_acc: 0.9634\n",
      "Epoch 16/20\n",
      "51000/51000 [==============================] - 6s 121us/sample - loss: 0.0821 - acc: 0.9763 - val_loss: 0.1619 - val_acc: 0.9602\n",
      "Epoch 17/20\n",
      "51000/51000 [==============================] - 6s 125us/sample - loss: 0.0800 - acc: 0.9763 - val_loss: 0.1668 - val_acc: 0.9629\n",
      "Epoch 18/20\n",
      "51000/51000 [==============================] - 6s 126us/sample - loss: 0.0755 - acc: 0.9774 - val_loss: 0.1648 - val_acc: 0.9621\n",
      "Epoch 19/20\n",
      "51000/51000 [==============================] - 6s 124us/sample - loss: 0.0733 - acc: 0.9784 - val_loss: 0.1712 - val_acc: 0.9607\n",
      "Epoch 20/20\n",
      "51000/51000 [==============================] - 6s 125us/sample - loss: 0.0717 - acc: 0.9791 - val_loss: 0.1646 - val_acc: 0.9630\n"
     ]
    }
   ],
   "source": [
    "# https://www.tensorflow.org/api_docs/python/tf/keras/models/Sequential#fit\n",
    "\n",
    "output = model.fit(X_train, y_train, epochs=20,  validation_data=(X_validate, y_validate))"
   ]
  },
  {
   "cell_type": "code",
   "execution_count": 188,
   "metadata": {},
   "outputs": [],
   "source": [
    "metrics = pd.DataFrame(output.history)"
   ]
  },
  {
   "cell_type": "code",
   "execution_count": 189,
   "metadata": {},
   "outputs": [
    {
     "data": {
      "text/plain": [
       "<matplotlib.axes._subplots.AxesSubplot at 0x7fb4440b0b70>"
      ]
     },
     "execution_count": 189,
     "metadata": {},
     "output_type": "execute_result"
    },
    {
     "data": {
      "image/png": "[encoded data removed]",
      "text/plain": [
       "<Figure size 432x288 with 1 Axes>"
      ]
     },
     "metadata": {
      "needs_background": "light"
     },
     "output_type": "display_data"
    }
   ],
   "source": [
    "sns.lineplot(data=metrics, x = metrics.index, y='loss')\n",
    "sns.lineplot(data=metrics, x = metrics.index, y='val_loss')"
   ]
  },
  {
   "cell_type": "code",
   "execution_count": null,
   "metadata": {},
   "outputs": [],
   "source": []
  }
 ],
 "metadata": {
  "kernelspec": {
   "display_name": "Python 3",
   "language": "python",
   "name": "python3"
  },
  "language_info": {
   "codemirror_mode": {
    "name": "ipython",
    "version": 3
   },
   "file_extension": ".py",
   "mimetype": "text/x-python",
   "name": "python",
   "nbconvert_exporter": "python",
   "pygments_lexer": "ipython3",
   "version": "3.6.8"
  }
 },
 "nbformat": 4,
 "nbformat_minor": 2
}
